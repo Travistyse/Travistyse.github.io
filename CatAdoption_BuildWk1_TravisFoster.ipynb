{
  "nbformat": 4,
  "nbformat_minor": 0,
  "metadata": {
    "colab": {
      "name": "CatAdoption_BuildWk1_TravisFoster.ipynb",
      "provenance": [],
      "collapsed_sections": [],
      "include_colab_link": true
    },
    "kernelspec": {
      "name": "python3",
      "display_name": "Python 3"
    }
  },
  "cells": [
    {
      "cell_type": "markdown",
      "metadata": {
        "id": "view-in-github",
        "colab_type": "text"
      },
      "source": [
        "<a href=\"https://colab.research.google.com/github/Travistyse/Travistyse.github.io/blob/master/CatAdoption_BuildWk1_TravisFoster.ipynb\" target=\"_parent\"><img src=\"https://colab.research.google.com/assets/colab-badge.svg\" alt=\"Open In Colab\"/></a>"
      ]
    },
    {
      "cell_type": "markdown",
      "metadata": {
        "id": "9u0wYMfIaIKO",
        "colab_type": "text"
      },
      "source": [
        "The aim of this project is to determine what factors play a role in cat adoption rates using data from the Austin Animal Center Shelter's dataset which can be found [here](https://www.kaggle.com/aaronschlegel/austin-animal-center-shelter-outcomes-and#aac_shelter_cat_outcome_eng.csv) - I'm using the dataset that's been engineered for the outcome analysis I'm about to do. \n",
        "\n",
        "I hope to present visualizations and insights which are interesting enough to overcome what I presume must be at least a handful of other similar reports. I've chosen not to read them for the sake of not demotivating myself or feeling unoriginal given that the most important aspect of this analysis is the fact that I'm doing it and the outcome is meeting or exceeding expectations."
      ]
    },
    {
      "cell_type": "code",
      "metadata": {
        "id": "iSwAVQICZCS3",
        "colab_type": "code",
        "colab": {}
      },
      "source": [
        "import pandas as pd\n",
        "import numpy as np\n",
        "import matplotlib.pyplot as plt\n",
        "import math\n",
        "import random\n",
        "\n",
        "pd.options.display.max_rows = 999\n",
        "pd.options.display.max_columns = 100"
      ],
      "execution_count": 0,
      "outputs": []
    },
    {
      "cell_type": "code",
      "metadata": {
        "id": "-Aa0tTh2dhVd",
        "colab_type": "code",
        "outputId": "e8df07a7-64df-45bd-dd59-fa86ef79c81a",
        "colab": {
          "base_uri": "https://localhost:8080/",
          "height": 55
        }
      },
      "source": [
        "from google.colab import drive\n",
        "drive.mount('/content/drive')"
      ],
      "execution_count": 2,
      "outputs": [
        {
          "output_type": "stream",
          "text": [
            "Drive already mounted at /content/drive; to attempt to forcibly remount, call drive.mount(\"/content/drive\", force_remount=True).\n"
          ],
          "name": "stdout"
        }
      ]
    },
    {
      "cell_type": "code",
      "metadata": {
        "id": "hBZO4ReHiC60",
        "colab_type": "code",
        "colab": {}
      },
      "source": [
        "file_path = \"/content/drive/My Drive/Lambda/Unit 1/Build/Updated Datasets/Austin_Animal_Center_Outcomes.csv\"\n",
        "file_path_in = \"/content/drive/My Drive/Lambda/Unit 1/Build/Updated Datasets/Austin_Animal_Center_Intakes.csv\"\n",
        "shelter_df = pd.read_csv(file_path)\n",
        "shelter_df_in = pd.read_csv(file_path_in)"
      ],
      "execution_count": 0,
      "outputs": []
    },
    {
      "cell_type": "code",
      "metadata": {
        "id": "N5dOQ_Zklwuo",
        "colab_type": "code",
        "outputId": "0cbc8940-8997-4bac-aa97-467cdec8af0e",
        "colab": {
          "base_uri": "https://localhost:8080/",
          "height": 757
        }
      },
      "source": [
        "shelter_df.head(10)"
      ],
      "execution_count": 4,
      "outputs": [
        {
          "output_type": "execute_result",
          "data": {
            "text/html": [
              "<div>\n",
              "<style scoped>\n",
              "    .dataframe tbody tr th:only-of-type {\n",
              "        vertical-align: middle;\n",
              "    }\n",
              "\n",
              "    .dataframe tbody tr th {\n",
              "        vertical-align: top;\n",
              "    }\n",
              "\n",
              "    .dataframe thead th {\n",
              "        text-align: right;\n",
              "    }\n",
              "</style>\n",
              "<table border=\"1\" class=\"dataframe\">\n",
              "  <thead>\n",
              "    <tr style=\"text-align: right;\">\n",
              "      <th></th>\n",
              "      <th>Animal ID</th>\n",
              "      <th>Name</th>\n",
              "      <th>DateTime</th>\n",
              "      <th>MonthYear</th>\n",
              "      <th>Date of Birth</th>\n",
              "      <th>Outcome Type</th>\n",
              "      <th>Outcome Subtype</th>\n",
              "      <th>Animal Type</th>\n",
              "      <th>Sex upon Outcome</th>\n",
              "      <th>Age upon Outcome</th>\n",
              "      <th>Breed</th>\n",
              "      <th>Color</th>\n",
              "    </tr>\n",
              "  </thead>\n",
              "  <tbody>\n",
              "    <tr>\n",
              "      <th>0</th>\n",
              "      <td>A789027</td>\n",
              "      <td>Lennie</td>\n",
              "      <td>02/17/2019 11:44:00 AM</td>\n",
              "      <td>02/17/2019 11:44:00 AM</td>\n",
              "      <td>02/13/2017</td>\n",
              "      <td>Adoption</td>\n",
              "      <td>NaN</td>\n",
              "      <td>Dog</td>\n",
              "      <td>Neutered Male</td>\n",
              "      <td>2 years</td>\n",
              "      <td>Chihuahua Shorthair Mix</td>\n",
              "      <td>Cream</td>\n",
              "    </tr>\n",
              "    <tr>\n",
              "      <th>1</th>\n",
              "      <td>A720371</td>\n",
              "      <td>Moose</td>\n",
              "      <td>02/13/2016 05:59:00 PM</td>\n",
              "      <td>02/13/2016 05:59:00 PM</td>\n",
              "      <td>10/08/2015</td>\n",
              "      <td>Adoption</td>\n",
              "      <td>NaN</td>\n",
              "      <td>Dog</td>\n",
              "      <td>Neutered Male</td>\n",
              "      <td>4 months</td>\n",
              "      <td>Anatol Shepherd/Labrador Retriever</td>\n",
              "      <td>Buff</td>\n",
              "    </tr>\n",
              "    <tr>\n",
              "      <th>2</th>\n",
              "      <td>A674754</td>\n",
              "      <td>NaN</td>\n",
              "      <td>03/18/2014 11:47:00 AM</td>\n",
              "      <td>03/18/2014 11:47:00 AM</td>\n",
              "      <td>03/12/2014</td>\n",
              "      <td>Transfer</td>\n",
              "      <td>Partner</td>\n",
              "      <td>Cat</td>\n",
              "      <td>Intact Male</td>\n",
              "      <td>6 days</td>\n",
              "      <td>Domestic Shorthair Mix</td>\n",
              "      <td>Orange Tabby</td>\n",
              "    </tr>\n",
              "    <tr>\n",
              "      <th>3</th>\n",
              "      <td>A689724</td>\n",
              "      <td>*Donatello</td>\n",
              "      <td>10/18/2014 06:52:00 PM</td>\n",
              "      <td>10/18/2014 06:52:00 PM</td>\n",
              "      <td>08/01/2014</td>\n",
              "      <td>Adoption</td>\n",
              "      <td>NaN</td>\n",
              "      <td>Cat</td>\n",
              "      <td>Neutered Male</td>\n",
              "      <td>2 months</td>\n",
              "      <td>Domestic Shorthair Mix</td>\n",
              "      <td>Black</td>\n",
              "    </tr>\n",
              "    <tr>\n",
              "      <th>4</th>\n",
              "      <td>A680969</td>\n",
              "      <td>*Zeus</td>\n",
              "      <td>08/05/2014 04:59:00 PM</td>\n",
              "      <td>08/05/2014 04:59:00 PM</td>\n",
              "      <td>06/03/2014</td>\n",
              "      <td>Adoption</td>\n",
              "      <td>NaN</td>\n",
              "      <td>Cat</td>\n",
              "      <td>Neutered Male</td>\n",
              "      <td>2 months</td>\n",
              "      <td>Domestic Shorthair Mix</td>\n",
              "      <td>White/Orange Tabby</td>\n",
              "    </tr>\n",
              "    <tr>\n",
              "      <th>5</th>\n",
              "      <td>A684617</td>\n",
              "      <td>NaN</td>\n",
              "      <td>07/27/2014 09:00:00 AM</td>\n",
              "      <td>07/27/2014 09:00:00 AM</td>\n",
              "      <td>07/26/2012</td>\n",
              "      <td>Transfer</td>\n",
              "      <td>SCRP</td>\n",
              "      <td>Cat</td>\n",
              "      <td>Intact Female</td>\n",
              "      <td>2 years</td>\n",
              "      <td>Domestic Shorthair Mix</td>\n",
              "      <td>Black</td>\n",
              "    </tr>\n",
              "    <tr>\n",
              "      <th>6</th>\n",
              "      <td>A742354</td>\n",
              "      <td>Artemis</td>\n",
              "      <td>01/22/2017 11:56:00 AM</td>\n",
              "      <td>01/22/2017 11:56:00 AM</td>\n",
              "      <td>01/20/2010</td>\n",
              "      <td>Return to Owner</td>\n",
              "      <td>NaN</td>\n",
              "      <td>Cat</td>\n",
              "      <td>Neutered Male</td>\n",
              "      <td>7 years</td>\n",
              "      <td>Domestic Shorthair Mix</td>\n",
              "      <td>Blue/White</td>\n",
              "    </tr>\n",
              "    <tr>\n",
              "      <th>7</th>\n",
              "      <td>A681036</td>\n",
              "      <td>NaN</td>\n",
              "      <td>06/11/2014 05:11:00 PM</td>\n",
              "      <td>06/11/2014 05:11:00 PM</td>\n",
              "      <td>06/09/2014</td>\n",
              "      <td>Transfer</td>\n",
              "      <td>Partner</td>\n",
              "      <td>Cat</td>\n",
              "      <td>Intact Male</td>\n",
              "      <td>2 days</td>\n",
              "      <td>Domestic Shorthair Mix</td>\n",
              "      <td>Brown Tabby</td>\n",
              "    </tr>\n",
              "    <tr>\n",
              "      <th>8</th>\n",
              "      <td>A698049</td>\n",
              "      <td>Luigi</td>\n",
              "      <td>03/16/2015 02:50:00 PM</td>\n",
              "      <td>03/16/2015 02:50:00 PM</td>\n",
              "      <td>06/05/2014</td>\n",
              "      <td>Transfer</td>\n",
              "      <td>Partner</td>\n",
              "      <td>Cat</td>\n",
              "      <td>Spayed Female</td>\n",
              "      <td>9 months</td>\n",
              "      <td>Domestic Medium Hair Mix</td>\n",
              "      <td>Black/White</td>\n",
              "    </tr>\n",
              "    <tr>\n",
              "      <th>9</th>\n",
              "      <td>A789027</td>\n",
              "      <td>Lennie</td>\n",
              "      <td>03/10/2019 12:25:00 PM</td>\n",
              "      <td>03/10/2019 12:25:00 PM</td>\n",
              "      <td>02/13/2017</td>\n",
              "      <td>Adoption</td>\n",
              "      <td>NaN</td>\n",
              "      <td>Dog</td>\n",
              "      <td>Neutered Male</td>\n",
              "      <td>2 years</td>\n",
              "      <td>Chihuahua Shorthair Mix</td>\n",
              "      <td>Cream</td>\n",
              "    </tr>\n",
              "  </tbody>\n",
              "</table>\n",
              "</div>"
            ],
            "text/plain": [
              "  Animal ID        Name                DateTime               MonthYear  \\\n",
              "0   A789027      Lennie  02/17/2019 11:44:00 AM  02/17/2019 11:44:00 AM   \n",
              "1   A720371       Moose  02/13/2016 05:59:00 PM  02/13/2016 05:59:00 PM   \n",
              "2   A674754         NaN  03/18/2014 11:47:00 AM  03/18/2014 11:47:00 AM   \n",
              "3   A689724  *Donatello  10/18/2014 06:52:00 PM  10/18/2014 06:52:00 PM   \n",
              "4   A680969       *Zeus  08/05/2014 04:59:00 PM  08/05/2014 04:59:00 PM   \n",
              "5   A684617         NaN  07/27/2014 09:00:00 AM  07/27/2014 09:00:00 AM   \n",
              "6   A742354     Artemis  01/22/2017 11:56:00 AM  01/22/2017 11:56:00 AM   \n",
              "7   A681036         NaN  06/11/2014 05:11:00 PM  06/11/2014 05:11:00 PM   \n",
              "8   A698049       Luigi  03/16/2015 02:50:00 PM  03/16/2015 02:50:00 PM   \n",
              "9   A789027      Lennie  03/10/2019 12:25:00 PM  03/10/2019 12:25:00 PM   \n",
              "\n",
              "  Date of Birth     Outcome Type Outcome Subtype Animal Type Sex upon Outcome  \\\n",
              "0    02/13/2017         Adoption             NaN         Dog    Neutered Male   \n",
              "1    10/08/2015         Adoption             NaN         Dog    Neutered Male   \n",
              "2    03/12/2014         Transfer         Partner         Cat      Intact Male   \n",
              "3    08/01/2014         Adoption             NaN         Cat    Neutered Male   \n",
              "4    06/03/2014         Adoption             NaN         Cat    Neutered Male   \n",
              "5    07/26/2012         Transfer            SCRP         Cat    Intact Female   \n",
              "6    01/20/2010  Return to Owner             NaN         Cat    Neutered Male   \n",
              "7    06/09/2014         Transfer         Partner         Cat      Intact Male   \n",
              "8    06/05/2014         Transfer         Partner         Cat    Spayed Female   \n",
              "9    02/13/2017         Adoption             NaN         Dog    Neutered Male   \n",
              "\n",
              "  Age upon Outcome                               Breed               Color  \n",
              "0          2 years             Chihuahua Shorthair Mix               Cream  \n",
              "1         4 months  Anatol Shepherd/Labrador Retriever                Buff  \n",
              "2           6 days              Domestic Shorthair Mix        Orange Tabby  \n",
              "3         2 months              Domestic Shorthair Mix               Black  \n",
              "4         2 months              Domestic Shorthair Mix  White/Orange Tabby  \n",
              "5          2 years              Domestic Shorthair Mix               Black  \n",
              "6          7 years              Domestic Shorthair Mix          Blue/White  \n",
              "7           2 days              Domestic Shorthair Mix         Brown Tabby  \n",
              "8         9 months            Domestic Medium Hair Mix         Black/White  \n",
              "9          2 years             Chihuahua Shorthair Mix               Cream  "
            ]
          },
          "metadata": {
            "tags": []
          },
          "execution_count": 4
        }
      ]
    },
    {
      "cell_type": "code",
      "metadata": {
        "id": "qqn46St-l87T",
        "colab_type": "code",
        "outputId": "623b6f98-d447-4743-a5f1-92dc85f2b51d",
        "colab": {
          "base_uri": "https://localhost:8080/",
          "height": 121
        }
      },
      "source": [
        "shelter_df['Animal Type'].value_counts()"
      ],
      "execution_count": 5,
      "outputs": [
        {
          "output_type": "execute_result",
          "data": {
            "text/plain": [
              "Dog          64536\n",
              "Cat          42999\n",
              "Other         5834\n",
              "Bird           537\n",
              "Livestock       18\n",
              "Name: Animal Type, dtype: int64"
            ]
          },
          "metadata": {
            "tags": []
          },
          "execution_count": 5
        }
      ]
    },
    {
      "cell_type": "code",
      "metadata": {
        "id": "hfswBPKy6ATZ",
        "colab_type": "code",
        "colab": {}
      },
      "source": [
        "#df = df[df.line_race != 0]\n",
        "condition = shelter_df['Animal Type'] == 'Cat'\n",
        "shelter_df['Animal Type'] = shelter_df['Animal Type'][condition]"
      ],
      "execution_count": 0,
      "outputs": []
    },
    {
      "cell_type": "code",
      "metadata": {
        "id": "eTIKBl_l6VY-",
        "colab_type": "code",
        "outputId": "2954d887-28b5-4405-f4a2-eb33bba031ac",
        "colab": {
          "base_uri": "https://localhost:8080/",
          "height": 52
        }
      },
      "source": [
        "shelter_df['Animal Type'].value_counts()"
      ],
      "execution_count": 7,
      "outputs": [
        {
          "output_type": "execute_result",
          "data": {
            "text/plain": [
              "Cat    42999\n",
              "Name: Animal Type, dtype: int64"
            ]
          },
          "metadata": {
            "tags": []
          },
          "execution_count": 7
        }
      ]
    },
    {
      "cell_type": "code",
      "metadata": {
        "id": "_sNMN_PI659A",
        "colab_type": "code",
        "outputId": "3ff33069-6aac-405c-c6c2-1ba95e162e55",
        "colab": {
          "base_uri": "https://localhost:8080/",
          "height": 806
        }
      },
      "source": [
        "shelter_df_in.head(10)"
      ],
      "execution_count": 8,
      "outputs": [
        {
          "output_type": "execute_result",
          "data": {
            "text/html": [
              "<div>\n",
              "<style scoped>\n",
              "    .dataframe tbody tr th:only-of-type {\n",
              "        vertical-align: middle;\n",
              "    }\n",
              "\n",
              "    .dataframe tbody tr th {\n",
              "        vertical-align: top;\n",
              "    }\n",
              "\n",
              "    .dataframe thead th {\n",
              "        text-align: right;\n",
              "    }\n",
              "</style>\n",
              "<table border=\"1\" class=\"dataframe\">\n",
              "  <thead>\n",
              "    <tr style=\"text-align: right;\">\n",
              "      <th></th>\n",
              "      <th>Animal ID</th>\n",
              "      <th>Name</th>\n",
              "      <th>DateTime</th>\n",
              "      <th>MonthYear</th>\n",
              "      <th>Found Location</th>\n",
              "      <th>Intake Type</th>\n",
              "      <th>Intake Condition</th>\n",
              "      <th>Animal Type</th>\n",
              "      <th>Sex upon Intake</th>\n",
              "      <th>Age upon Intake</th>\n",
              "      <th>Breed</th>\n",
              "      <th>Color</th>\n",
              "    </tr>\n",
              "  </thead>\n",
              "  <tbody>\n",
              "    <tr>\n",
              "      <th>0</th>\n",
              "      <td>A786884</td>\n",
              "      <td>*Brock</td>\n",
              "      <td>01/03/2019 04:19:00 PM</td>\n",
              "      <td>01/03/2019 04:19:00 PM</td>\n",
              "      <td>2501 Magin Meadow Dr in Austin (TX)</td>\n",
              "      <td>Stray</td>\n",
              "      <td>Normal</td>\n",
              "      <td>Dog</td>\n",
              "      <td>Neutered Male</td>\n",
              "      <td>2 years</td>\n",
              "      <td>Beagle Mix</td>\n",
              "      <td>Tricolor</td>\n",
              "    </tr>\n",
              "    <tr>\n",
              "      <th>1</th>\n",
              "      <td>A706918</td>\n",
              "      <td>Belle</td>\n",
              "      <td>07/05/2015 12:59:00 PM</td>\n",
              "      <td>07/05/2015 12:59:00 PM</td>\n",
              "      <td>9409 Bluegrass Dr in Austin (TX)</td>\n",
              "      <td>Stray</td>\n",
              "      <td>Normal</td>\n",
              "      <td>Dog</td>\n",
              "      <td>Spayed Female</td>\n",
              "      <td>8 years</td>\n",
              "      <td>English Springer Spaniel</td>\n",
              "      <td>White/Liver</td>\n",
              "    </tr>\n",
              "    <tr>\n",
              "      <th>2</th>\n",
              "      <td>A724273</td>\n",
              "      <td>Runster</td>\n",
              "      <td>04/14/2016 06:43:00 PM</td>\n",
              "      <td>04/14/2016 06:43:00 PM</td>\n",
              "      <td>2818 Palomino Trail in Austin (TX)</td>\n",
              "      <td>Stray</td>\n",
              "      <td>Normal</td>\n",
              "      <td>Dog</td>\n",
              "      <td>Intact Male</td>\n",
              "      <td>11 months</td>\n",
              "      <td>Basenji Mix</td>\n",
              "      <td>Sable/White</td>\n",
              "    </tr>\n",
              "    <tr>\n",
              "      <th>3</th>\n",
              "      <td>A665644</td>\n",
              "      <td>NaN</td>\n",
              "      <td>10/21/2013 07:59:00 AM</td>\n",
              "      <td>10/21/2013 07:59:00 AM</td>\n",
              "      <td>Austin (TX)</td>\n",
              "      <td>Stray</td>\n",
              "      <td>Sick</td>\n",
              "      <td>Cat</td>\n",
              "      <td>Intact Female</td>\n",
              "      <td>4 weeks</td>\n",
              "      <td>Domestic Shorthair Mix</td>\n",
              "      <td>Calico</td>\n",
              "    </tr>\n",
              "    <tr>\n",
              "      <th>4</th>\n",
              "      <td>A682524</td>\n",
              "      <td>Rio</td>\n",
              "      <td>06/29/2014 10:38:00 AM</td>\n",
              "      <td>06/29/2014 10:38:00 AM</td>\n",
              "      <td>800 Grove Blvd in Austin (TX)</td>\n",
              "      <td>Stray</td>\n",
              "      <td>Normal</td>\n",
              "      <td>Dog</td>\n",
              "      <td>Neutered Male</td>\n",
              "      <td>4 years</td>\n",
              "      <td>Doberman Pinsch/Australian Cattle Dog</td>\n",
              "      <td>Tan/Gray</td>\n",
              "    </tr>\n",
              "    <tr>\n",
              "      <th>5</th>\n",
              "      <td>A743852</td>\n",
              "      <td>Odin</td>\n",
              "      <td>02/18/2017 12:46:00 PM</td>\n",
              "      <td>02/18/2017 12:46:00 PM</td>\n",
              "      <td>Austin (TX)</td>\n",
              "      <td>Owner Surrender</td>\n",
              "      <td>Normal</td>\n",
              "      <td>Dog</td>\n",
              "      <td>Neutered Male</td>\n",
              "      <td>2 years</td>\n",
              "      <td>Labrador Retriever Mix</td>\n",
              "      <td>Chocolate</td>\n",
              "    </tr>\n",
              "    <tr>\n",
              "      <th>6</th>\n",
              "      <td>A635072</td>\n",
              "      <td>Beowulf</td>\n",
              "      <td>04/16/2019 09:53:00 AM</td>\n",
              "      <td>04/16/2019 09:53:00 AM</td>\n",
              "      <td>415 East Mary Street in Austin (TX)</td>\n",
              "      <td>Public Assist</td>\n",
              "      <td>Normal</td>\n",
              "      <td>Dog</td>\n",
              "      <td>Neutered Male</td>\n",
              "      <td>6 years</td>\n",
              "      <td>Great Dane Mix</td>\n",
              "      <td>Black</td>\n",
              "    </tr>\n",
              "    <tr>\n",
              "      <th>7</th>\n",
              "      <td>A708452</td>\n",
              "      <td>Mumble</td>\n",
              "      <td>07/30/2015 02:37:00 PM</td>\n",
              "      <td>07/30/2015 02:37:00 PM</td>\n",
              "      <td>Austin (TX)</td>\n",
              "      <td>Public Assist</td>\n",
              "      <td>Normal</td>\n",
              "      <td>Dog</td>\n",
              "      <td>Intact Male</td>\n",
              "      <td>2 years</td>\n",
              "      <td>Labrador Retriever Mix</td>\n",
              "      <td>Black/White</td>\n",
              "    </tr>\n",
              "    <tr>\n",
              "      <th>8</th>\n",
              "      <td>A774147</td>\n",
              "      <td>NaN</td>\n",
              "      <td>06/11/2018 07:45:00 AM</td>\n",
              "      <td>06/11/2018 07:45:00 AM</td>\n",
              "      <td>6600 Elm Creek in Austin (TX)</td>\n",
              "      <td>Stray</td>\n",
              "      <td>Injured</td>\n",
              "      <td>Cat</td>\n",
              "      <td>Intact Female</td>\n",
              "      <td>4 weeks</td>\n",
              "      <td>Domestic Shorthair Mix</td>\n",
              "      <td>Black/White</td>\n",
              "    </tr>\n",
              "    <tr>\n",
              "      <th>9</th>\n",
              "      <td>A731435</td>\n",
              "      <td>*Casey</td>\n",
              "      <td>08/08/2016 05:52:00 PM</td>\n",
              "      <td>08/08/2016 05:52:00 PM</td>\n",
              "      <td>Austin (TX)</td>\n",
              "      <td>Owner Surrender</td>\n",
              "      <td>Normal</td>\n",
              "      <td>Cat</td>\n",
              "      <td>Neutered Male</td>\n",
              "      <td>5 months</td>\n",
              "      <td>Domestic Shorthair Mix</td>\n",
              "      <td>Cream Tabby</td>\n",
              "    </tr>\n",
              "  </tbody>\n",
              "</table>\n",
              "</div>"
            ],
            "text/plain": [
              "  Animal ID     Name                DateTime               MonthYear  \\\n",
              "0   A786884   *Brock  01/03/2019 04:19:00 PM  01/03/2019 04:19:00 PM   \n",
              "1   A706918    Belle  07/05/2015 12:59:00 PM  07/05/2015 12:59:00 PM   \n",
              "2   A724273  Runster  04/14/2016 06:43:00 PM  04/14/2016 06:43:00 PM   \n",
              "3   A665644      NaN  10/21/2013 07:59:00 AM  10/21/2013 07:59:00 AM   \n",
              "4   A682524      Rio  06/29/2014 10:38:00 AM  06/29/2014 10:38:00 AM   \n",
              "5   A743852     Odin  02/18/2017 12:46:00 PM  02/18/2017 12:46:00 PM   \n",
              "6   A635072  Beowulf  04/16/2019 09:53:00 AM  04/16/2019 09:53:00 AM   \n",
              "7   A708452   Mumble  07/30/2015 02:37:00 PM  07/30/2015 02:37:00 PM   \n",
              "8   A774147      NaN  06/11/2018 07:45:00 AM  06/11/2018 07:45:00 AM   \n",
              "9   A731435   *Casey  08/08/2016 05:52:00 PM  08/08/2016 05:52:00 PM   \n",
              "\n",
              "                        Found Location      Intake Type Intake Condition  \\\n",
              "0  2501 Magin Meadow Dr in Austin (TX)            Stray           Normal   \n",
              "1     9409 Bluegrass Dr in Austin (TX)            Stray           Normal   \n",
              "2   2818 Palomino Trail in Austin (TX)            Stray           Normal   \n",
              "3                          Austin (TX)            Stray             Sick   \n",
              "4        800 Grove Blvd in Austin (TX)            Stray           Normal   \n",
              "5                          Austin (TX)  Owner Surrender           Normal   \n",
              "6  415 East Mary Street in Austin (TX)    Public Assist           Normal   \n",
              "7                          Austin (TX)    Public Assist           Normal   \n",
              "8        6600 Elm Creek in Austin (TX)            Stray          Injured   \n",
              "9                          Austin (TX)  Owner Surrender           Normal   \n",
              "\n",
              "  Animal Type Sex upon Intake Age upon Intake  \\\n",
              "0         Dog   Neutered Male         2 years   \n",
              "1         Dog   Spayed Female         8 years   \n",
              "2         Dog     Intact Male       11 months   \n",
              "3         Cat   Intact Female         4 weeks   \n",
              "4         Dog   Neutered Male         4 years   \n",
              "5         Dog   Neutered Male         2 years   \n",
              "6         Dog   Neutered Male         6 years   \n",
              "7         Dog     Intact Male         2 years   \n",
              "8         Cat   Intact Female         4 weeks   \n",
              "9         Cat   Neutered Male        5 months   \n",
              "\n",
              "                                   Breed        Color  \n",
              "0                             Beagle Mix     Tricolor  \n",
              "1               English Springer Spaniel  White/Liver  \n",
              "2                            Basenji Mix  Sable/White  \n",
              "3                 Domestic Shorthair Mix       Calico  \n",
              "4  Doberman Pinsch/Australian Cattle Dog     Tan/Gray  \n",
              "5                 Labrador Retriever Mix    Chocolate  \n",
              "6                         Great Dane Mix        Black  \n",
              "7                 Labrador Retriever Mix  Black/White  \n",
              "8                 Domestic Shorthair Mix  Black/White  \n",
              "9                 Domestic Shorthair Mix  Cream Tabby  "
            ]
          },
          "metadata": {
            "tags": []
          },
          "execution_count": 8
        }
      ]
    },
    {
      "cell_type": "code",
      "metadata": {
        "id": "7jIFE2_T60CG",
        "colab_type": "code",
        "colab": {}
      },
      "source": [
        "#df = df[df.line_race != 0]\n",
        "condition = shelter_df_in['Animal Type'] == 'Cat'\n",
        "shelter_df_in['Animal Type'] = shelter_df_in['Animal Type'][condition]"
      ],
      "execution_count": 0,
      "outputs": []
    },
    {
      "cell_type": "code",
      "metadata": {
        "id": "VRI76c6h7Djt",
        "colab_type": "code",
        "outputId": "56ac1a49-f730-4cc2-bd67-d18b267c4e43",
        "colab": {
          "base_uri": "https://localhost:8080/",
          "height": 52
        }
      },
      "source": [
        "shelter_df_in['Animal Type'].value_counts()"
      ],
      "execution_count": 10,
      "outputs": [
        {
          "output_type": "execute_result",
          "data": {
            "text/plain": [
              "Cat    42833\n",
              "Name: Animal Type, dtype: int64"
            ]
          },
          "metadata": {
            "tags": []
          },
          "execution_count": 10
        }
      ]
    },
    {
      "cell_type": "code",
      "metadata": {
        "id": "kX5ovCPoeGhg",
        "colab_type": "code",
        "colab": {
          "base_uri": "https://localhost:8080/",
          "height": 191
        },
        "outputId": "0c09f936-6c47-4147-ed09-8f02623b49ad"
      },
      "source": [
        "shelter_df['Outcome Type'].value_counts()"
      ],
      "execution_count": 11,
      "outputs": [
        {
          "output_type": "execute_result",
          "data": {
            "text/plain": [
              "Adoption           50074\n",
              "Transfer           34010\n",
              "Return to Owner    20065\n",
              "Euthanasia          7625\n",
              "Died                1047\n",
              "Rto-Adopt            556\n",
              "Disposal             452\n",
              "Missing               67\n",
              "Relocate              20\n",
              "Name: Outcome Type, dtype: int64"
            ]
          },
          "metadata": {
            "tags": []
          },
          "execution_count": 11
        }
      ]
    },
    {
      "cell_type": "markdown",
      "metadata": {
        "id": "UHeKXike7J1o",
        "colab_type": "text"
      },
      "source": [
        "I'm now going to merge these based on Animal ID after renaming some columns to avoid conflicts"
      ]
    },
    {
      "cell_type": "code",
      "metadata": {
        "id": "8iM9muYf-hGp",
        "colab_type": "code",
        "colab": {}
      },
      "source": [
        "shelter_df_in.rename(columns={\"DateTime\": \"Intake DateTime\"}, inplace = True)\n",
        "#.rename(columns = {'test':'TEST'}, inplace = True) \n",
        "#shelter_df_in.rename(index={2: \"Intake DateTime\"})"
      ],
      "execution_count": 0,
      "outputs": []
    },
    {
      "cell_type": "code",
      "metadata": {
        "id": "tRxFMOkg_TMN",
        "colab_type": "code",
        "outputId": "f22884c6-9260-4c65-bc6f-a8dfe9b33c85",
        "colab": {
          "base_uri": "https://localhost:8080/",
          "height": 225
        }
      },
      "source": [
        "#shelter_df_in['Intake Datetime']\n",
        "list(shelter_df_in.columns.values)"
      ],
      "execution_count": 13,
      "outputs": [
        {
          "output_type": "execute_result",
          "data": {
            "text/plain": [
              "['Animal ID',\n",
              " 'Name',\n",
              " 'Intake DateTime',\n",
              " 'MonthYear',\n",
              " 'Found Location',\n",
              " 'Intake Type',\n",
              " 'Intake Condition',\n",
              " 'Animal Type',\n",
              " 'Sex upon Intake',\n",
              " 'Age upon Intake',\n",
              " 'Breed',\n",
              " 'Color']"
            ]
          },
          "metadata": {
            "tags": []
          },
          "execution_count": 13
        }
      ]
    },
    {
      "cell_type": "code",
      "metadata": {
        "id": "Vsz-Y_w2CP40",
        "colab_type": "code",
        "outputId": "aa52db82-cc51-4bd4-8f29-46862cd435b4",
        "colab": {
          "base_uri": "https://localhost:8080/",
          "height": 225
        }
      },
      "source": [
        "list(shelter_df.columns.values)"
      ],
      "execution_count": 14,
      "outputs": [
        {
          "output_type": "execute_result",
          "data": {
            "text/plain": [
              "['Animal ID',\n",
              " 'Name',\n",
              " 'DateTime',\n",
              " 'MonthYear',\n",
              " 'Date of Birth',\n",
              " 'Outcome Type',\n",
              " 'Outcome Subtype',\n",
              " 'Animal Type',\n",
              " 'Sex upon Outcome',\n",
              " 'Age upon Outcome',\n",
              " 'Breed',\n",
              " 'Color']"
            ]
          },
          "metadata": {
            "tags": []
          },
          "execution_count": 14
        }
      ]
    },
    {
      "cell_type": "code",
      "metadata": {
        "id": "Vj1kQXBs7N8B",
        "colab_type": "code",
        "outputId": "242bc0d6-77a7-4b28-ef82-af5ecef5fb4c",
        "colab": {
          "base_uri": "https://localhost:8080/",
          "height": 757
        }
      },
      "source": [
        "'''\n",
        "merged = (\n",
        "    df_products[['product_id', 'product_name']]\n",
        "    .merge(order_products__prior[['order_id', 'product_id']])\n",
        ")\n",
        "\n",
        "merged = (\n",
        "    shelter_df[['Animal ID', 'product_name']]\n",
        "    .merge(shelter_df_in[['Animal ID', 'product_id']])\n",
        ")\n",
        "'''\n",
        "result = pd.merge(shelter_df,\n",
        "                  shelter_df_in[['Animal ID', 'Intake Type', 'Intake DateTime', 'Sex upon Intake', 'Age upon Intake']],\n",
        "                  on = 'Animal ID',\n",
        "                  how = 'inner'\n",
        ")\n",
        "result.head(10)"
      ],
      "execution_count": 15,
      "outputs": [
        {
          "output_type": "execute_result",
          "data": {
            "text/html": [
              "<div>\n",
              "<style scoped>\n",
              "    .dataframe tbody tr th:only-of-type {\n",
              "        vertical-align: middle;\n",
              "    }\n",
              "\n",
              "    .dataframe tbody tr th {\n",
              "        vertical-align: top;\n",
              "    }\n",
              "\n",
              "    .dataframe thead th {\n",
              "        text-align: right;\n",
              "    }\n",
              "</style>\n",
              "<table border=\"1\" class=\"dataframe\">\n",
              "  <thead>\n",
              "    <tr style=\"text-align: right;\">\n",
              "      <th></th>\n",
              "      <th>Animal ID</th>\n",
              "      <th>Name</th>\n",
              "      <th>DateTime</th>\n",
              "      <th>MonthYear</th>\n",
              "      <th>Date of Birth</th>\n",
              "      <th>Outcome Type</th>\n",
              "      <th>Outcome Subtype</th>\n",
              "      <th>Animal Type</th>\n",
              "      <th>Sex upon Outcome</th>\n",
              "      <th>Age upon Outcome</th>\n",
              "      <th>Breed</th>\n",
              "      <th>Color</th>\n",
              "      <th>Intake Type</th>\n",
              "      <th>Intake DateTime</th>\n",
              "      <th>Sex upon Intake</th>\n",
              "      <th>Age upon Intake</th>\n",
              "    </tr>\n",
              "  </thead>\n",
              "  <tbody>\n",
              "    <tr>\n",
              "      <th>0</th>\n",
              "      <td>A789027</td>\n",
              "      <td>Lennie</td>\n",
              "      <td>02/17/2019 11:44:00 AM</td>\n",
              "      <td>02/17/2019 11:44:00 AM</td>\n",
              "      <td>02/13/2017</td>\n",
              "      <td>Adoption</td>\n",
              "      <td>NaN</td>\n",
              "      <td>NaN</td>\n",
              "      <td>Neutered Male</td>\n",
              "      <td>2 years</td>\n",
              "      <td>Chihuahua Shorthair Mix</td>\n",
              "      <td>Cream</td>\n",
              "      <td>Stray</td>\n",
              "      <td>02/13/2019 01:17:00 PM</td>\n",
              "      <td>Neutered Male</td>\n",
              "      <td>2 years</td>\n",
              "    </tr>\n",
              "    <tr>\n",
              "      <th>1</th>\n",
              "      <td>A789027</td>\n",
              "      <td>Lennie</td>\n",
              "      <td>02/17/2019 11:44:00 AM</td>\n",
              "      <td>02/17/2019 11:44:00 AM</td>\n",
              "      <td>02/13/2017</td>\n",
              "      <td>Adoption</td>\n",
              "      <td>NaN</td>\n",
              "      <td>NaN</td>\n",
              "      <td>Neutered Male</td>\n",
              "      <td>2 years</td>\n",
              "      <td>Chihuahua Shorthair Mix</td>\n",
              "      <td>Cream</td>\n",
              "      <td>Owner Surrender</td>\n",
              "      <td>03/05/2019 05:14:00 PM</td>\n",
              "      <td>Neutered Male</td>\n",
              "      <td>2 years</td>\n",
              "    </tr>\n",
              "    <tr>\n",
              "      <th>2</th>\n",
              "      <td>A789027</td>\n",
              "      <td>Lennie</td>\n",
              "      <td>03/10/2019 12:25:00 PM</td>\n",
              "      <td>03/10/2019 12:25:00 PM</td>\n",
              "      <td>02/13/2017</td>\n",
              "      <td>Adoption</td>\n",
              "      <td>NaN</td>\n",
              "      <td>NaN</td>\n",
              "      <td>Neutered Male</td>\n",
              "      <td>2 years</td>\n",
              "      <td>Chihuahua Shorthair Mix</td>\n",
              "      <td>Cream</td>\n",
              "      <td>Stray</td>\n",
              "      <td>02/13/2019 01:17:00 PM</td>\n",
              "      <td>Neutered Male</td>\n",
              "      <td>2 years</td>\n",
              "    </tr>\n",
              "    <tr>\n",
              "      <th>3</th>\n",
              "      <td>A789027</td>\n",
              "      <td>Lennie</td>\n",
              "      <td>03/10/2019 12:25:00 PM</td>\n",
              "      <td>03/10/2019 12:25:00 PM</td>\n",
              "      <td>02/13/2017</td>\n",
              "      <td>Adoption</td>\n",
              "      <td>NaN</td>\n",
              "      <td>NaN</td>\n",
              "      <td>Neutered Male</td>\n",
              "      <td>2 years</td>\n",
              "      <td>Chihuahua Shorthair Mix</td>\n",
              "      <td>Cream</td>\n",
              "      <td>Owner Surrender</td>\n",
              "      <td>03/05/2019 05:14:00 PM</td>\n",
              "      <td>Neutered Male</td>\n",
              "      <td>2 years</td>\n",
              "    </tr>\n",
              "    <tr>\n",
              "      <th>4</th>\n",
              "      <td>A720371</td>\n",
              "      <td>Moose</td>\n",
              "      <td>02/13/2016 05:59:00 PM</td>\n",
              "      <td>02/13/2016 05:59:00 PM</td>\n",
              "      <td>10/08/2015</td>\n",
              "      <td>Adoption</td>\n",
              "      <td>NaN</td>\n",
              "      <td>NaN</td>\n",
              "      <td>Neutered Male</td>\n",
              "      <td>4 months</td>\n",
              "      <td>Anatol Shepherd/Labrador Retriever</td>\n",
              "      <td>Buff</td>\n",
              "      <td>Stray</td>\n",
              "      <td>02/08/2016 11:05:00 AM</td>\n",
              "      <td>Intact Male</td>\n",
              "      <td>4 months</td>\n",
              "    </tr>\n",
              "    <tr>\n",
              "      <th>5</th>\n",
              "      <td>A720371</td>\n",
              "      <td>Moose</td>\n",
              "      <td>02/13/2016 05:59:00 PM</td>\n",
              "      <td>02/13/2016 05:59:00 PM</td>\n",
              "      <td>10/08/2015</td>\n",
              "      <td>Adoption</td>\n",
              "      <td>NaN</td>\n",
              "      <td>NaN</td>\n",
              "      <td>Neutered Male</td>\n",
              "      <td>4 months</td>\n",
              "      <td>Anatol Shepherd/Labrador Retriever</td>\n",
              "      <td>Buff</td>\n",
              "      <td>Owner Surrender</td>\n",
              "      <td>02/15/2016 10:37:00 AM</td>\n",
              "      <td>Neutered Male</td>\n",
              "      <td>4 months</td>\n",
              "    </tr>\n",
              "    <tr>\n",
              "      <th>6</th>\n",
              "      <td>A720371</td>\n",
              "      <td>Moose</td>\n",
              "      <td>02/15/2016 12:00:00 AM</td>\n",
              "      <td>02/15/2016 12:00:00 AM</td>\n",
              "      <td>10/08/2015</td>\n",
              "      <td>Transfer</td>\n",
              "      <td>Partner</td>\n",
              "      <td>NaN</td>\n",
              "      <td>Neutered Male</td>\n",
              "      <td>4 months</td>\n",
              "      <td>Anatol Shepherd/Labrador Retriever</td>\n",
              "      <td>Buff</td>\n",
              "      <td>Stray</td>\n",
              "      <td>02/08/2016 11:05:00 AM</td>\n",
              "      <td>Intact Male</td>\n",
              "      <td>4 months</td>\n",
              "    </tr>\n",
              "    <tr>\n",
              "      <th>7</th>\n",
              "      <td>A720371</td>\n",
              "      <td>Moose</td>\n",
              "      <td>02/15/2016 12:00:00 AM</td>\n",
              "      <td>02/15/2016 12:00:00 AM</td>\n",
              "      <td>10/08/2015</td>\n",
              "      <td>Transfer</td>\n",
              "      <td>Partner</td>\n",
              "      <td>NaN</td>\n",
              "      <td>Neutered Male</td>\n",
              "      <td>4 months</td>\n",
              "      <td>Anatol Shepherd/Labrador Retriever</td>\n",
              "      <td>Buff</td>\n",
              "      <td>Owner Surrender</td>\n",
              "      <td>02/15/2016 10:37:00 AM</td>\n",
              "      <td>Neutered Male</td>\n",
              "      <td>4 months</td>\n",
              "    </tr>\n",
              "    <tr>\n",
              "      <th>8</th>\n",
              "      <td>A674754</td>\n",
              "      <td>NaN</td>\n",
              "      <td>03/18/2014 11:47:00 AM</td>\n",
              "      <td>03/18/2014 11:47:00 AM</td>\n",
              "      <td>03/12/2014</td>\n",
              "      <td>Transfer</td>\n",
              "      <td>Partner</td>\n",
              "      <td>Cat</td>\n",
              "      <td>Intact Male</td>\n",
              "      <td>6 days</td>\n",
              "      <td>Domestic Shorthair Mix</td>\n",
              "      <td>Orange Tabby</td>\n",
              "      <td>Stray</td>\n",
              "      <td>03/18/2014 07:11:00 AM</td>\n",
              "      <td>Intact Male</td>\n",
              "      <td>6 days</td>\n",
              "    </tr>\n",
              "    <tr>\n",
              "      <th>9</th>\n",
              "      <td>A689724</td>\n",
              "      <td>*Donatello</td>\n",
              "      <td>10/18/2014 06:52:00 PM</td>\n",
              "      <td>10/18/2014 06:52:00 PM</td>\n",
              "      <td>08/01/2014</td>\n",
              "      <td>Adoption</td>\n",
              "      <td>NaN</td>\n",
              "      <td>Cat</td>\n",
              "      <td>Neutered Male</td>\n",
              "      <td>2 months</td>\n",
              "      <td>Domestic Shorthair Mix</td>\n",
              "      <td>Black</td>\n",
              "      <td>Stray</td>\n",
              "      <td>10/08/2014 04:39:00 PM</td>\n",
              "      <td>Intact Male</td>\n",
              "      <td>2 months</td>\n",
              "    </tr>\n",
              "  </tbody>\n",
              "</table>\n",
              "</div>"
            ],
            "text/plain": [
              "  Animal ID        Name                DateTime               MonthYear  \\\n",
              "0   A789027      Lennie  02/17/2019 11:44:00 AM  02/17/2019 11:44:00 AM   \n",
              "1   A789027      Lennie  02/17/2019 11:44:00 AM  02/17/2019 11:44:00 AM   \n",
              "2   A789027      Lennie  03/10/2019 12:25:00 PM  03/10/2019 12:25:00 PM   \n",
              "3   A789027      Lennie  03/10/2019 12:25:00 PM  03/10/2019 12:25:00 PM   \n",
              "4   A720371       Moose  02/13/2016 05:59:00 PM  02/13/2016 05:59:00 PM   \n",
              "5   A720371       Moose  02/13/2016 05:59:00 PM  02/13/2016 05:59:00 PM   \n",
              "6   A720371       Moose  02/15/2016 12:00:00 AM  02/15/2016 12:00:00 AM   \n",
              "7   A720371       Moose  02/15/2016 12:00:00 AM  02/15/2016 12:00:00 AM   \n",
              "8   A674754         NaN  03/18/2014 11:47:00 AM  03/18/2014 11:47:00 AM   \n",
              "9   A689724  *Donatello  10/18/2014 06:52:00 PM  10/18/2014 06:52:00 PM   \n",
              "\n",
              "  Date of Birth Outcome Type Outcome Subtype Animal Type Sex upon Outcome  \\\n",
              "0    02/13/2017     Adoption             NaN         NaN    Neutered Male   \n",
              "1    02/13/2017     Adoption             NaN         NaN    Neutered Male   \n",
              "2    02/13/2017     Adoption             NaN         NaN    Neutered Male   \n",
              "3    02/13/2017     Adoption             NaN         NaN    Neutered Male   \n",
              "4    10/08/2015     Adoption             NaN         NaN    Neutered Male   \n",
              "5    10/08/2015     Adoption             NaN         NaN    Neutered Male   \n",
              "6    10/08/2015     Transfer         Partner         NaN    Neutered Male   \n",
              "7    10/08/2015     Transfer         Partner         NaN    Neutered Male   \n",
              "8    03/12/2014     Transfer         Partner         Cat      Intact Male   \n",
              "9    08/01/2014     Adoption             NaN         Cat    Neutered Male   \n",
              "\n",
              "  Age upon Outcome                               Breed         Color  \\\n",
              "0          2 years             Chihuahua Shorthair Mix         Cream   \n",
              "1          2 years             Chihuahua Shorthair Mix         Cream   \n",
              "2          2 years             Chihuahua Shorthair Mix         Cream   \n",
              "3          2 years             Chihuahua Shorthair Mix         Cream   \n",
              "4         4 months  Anatol Shepherd/Labrador Retriever          Buff   \n",
              "5         4 months  Anatol Shepherd/Labrador Retriever          Buff   \n",
              "6         4 months  Anatol Shepherd/Labrador Retriever          Buff   \n",
              "7         4 months  Anatol Shepherd/Labrador Retriever          Buff   \n",
              "8           6 days              Domestic Shorthair Mix  Orange Tabby   \n",
              "9         2 months              Domestic Shorthair Mix         Black   \n",
              "\n",
              "       Intake Type         Intake DateTime Sex upon Intake Age upon Intake  \n",
              "0            Stray  02/13/2019 01:17:00 PM   Neutered Male         2 years  \n",
              "1  Owner Surrender  03/05/2019 05:14:00 PM   Neutered Male         2 years  \n",
              "2            Stray  02/13/2019 01:17:00 PM   Neutered Male         2 years  \n",
              "3  Owner Surrender  03/05/2019 05:14:00 PM   Neutered Male         2 years  \n",
              "4            Stray  02/08/2016 11:05:00 AM     Intact Male        4 months  \n",
              "5  Owner Surrender  02/15/2016 10:37:00 AM   Neutered Male        4 months  \n",
              "6            Stray  02/08/2016 11:05:00 AM     Intact Male        4 months  \n",
              "7  Owner Surrender  02/15/2016 10:37:00 AM   Neutered Male        4 months  \n",
              "8            Stray  03/18/2014 07:11:00 AM     Intact Male          6 days  \n",
              "9            Stray  10/08/2014 04:39:00 PM     Intact Male        2 months  "
            ]
          },
          "metadata": {
            "tags": []
          },
          "execution_count": 15
        }
      ]
    },
    {
      "cell_type": "markdown",
      "metadata": {
        "id": "Sa2GOHlJcDxq",
        "colab_type": "text"
      },
      "source": [
        "Now let's ditch all the freaking Mooses c:"
      ]
    },
    {
      "cell_type": "code",
      "metadata": {
        "id": "E-CmtENacDMQ",
        "colab_type": "code",
        "colab": {
          "base_uri": "https://localhost:8080/",
          "height": 52
        },
        "outputId": "55df6114-fe0f-43f0-cb5a-d3937d836742"
      },
      "source": [
        "result['Animal Type'].value_counts()"
      ],
      "execution_count": 16,
      "outputs": [
        {
          "output_type": "execute_result",
          "data": {
            "text/plain": [
              "Cat    46826\n",
              "Name: Animal Type, dtype: int64"
            ]
          },
          "metadata": {
            "tags": []
          },
          "execution_count": 16
        }
      ]
    },
    {
      "cell_type": "markdown",
      "metadata": {
        "id": "cXKu2vFhdgKK",
        "colab_type": "text"
      },
      "source": [
        "Nah, just gotta kill some NaNs C:"
      ]
    },
    {
      "cell_type": "code",
      "metadata": {
        "id": "mcIVtpCgdi7I",
        "colab_type": "code",
        "colab": {}
      },
      "source": [
        "result = result.dropna(subset=['Animal Type'])"
      ],
      "execution_count": 0,
      "outputs": []
    },
    {
      "cell_type": "code",
      "metadata": {
        "id": "DQdPBsXGeR4c",
        "colab_type": "code",
        "colab": {
          "base_uri": "https://localhost:8080/",
          "height": 757
        },
        "outputId": "b7a0ebd8-53d7-4b70-ff70-d7092b341825"
      },
      "source": [
        "result.head(10)"
      ],
      "execution_count": 18,
      "outputs": [
        {
          "output_type": "execute_result",
          "data": {
            "text/html": [
              "<div>\n",
              "<style scoped>\n",
              "    .dataframe tbody tr th:only-of-type {\n",
              "        vertical-align: middle;\n",
              "    }\n",
              "\n",
              "    .dataframe tbody tr th {\n",
              "        vertical-align: top;\n",
              "    }\n",
              "\n",
              "    .dataframe thead th {\n",
              "        text-align: right;\n",
              "    }\n",
              "</style>\n",
              "<table border=\"1\" class=\"dataframe\">\n",
              "  <thead>\n",
              "    <tr style=\"text-align: right;\">\n",
              "      <th></th>\n",
              "      <th>Animal ID</th>\n",
              "      <th>Name</th>\n",
              "      <th>DateTime</th>\n",
              "      <th>MonthYear</th>\n",
              "      <th>Date of Birth</th>\n",
              "      <th>Outcome Type</th>\n",
              "      <th>Outcome Subtype</th>\n",
              "      <th>Animal Type</th>\n",
              "      <th>Sex upon Outcome</th>\n",
              "      <th>Age upon Outcome</th>\n",
              "      <th>Breed</th>\n",
              "      <th>Color</th>\n",
              "      <th>Intake Type</th>\n",
              "      <th>Intake DateTime</th>\n",
              "      <th>Sex upon Intake</th>\n",
              "      <th>Age upon Intake</th>\n",
              "    </tr>\n",
              "  </thead>\n",
              "  <tbody>\n",
              "    <tr>\n",
              "      <th>8</th>\n",
              "      <td>A674754</td>\n",
              "      <td>NaN</td>\n",
              "      <td>03/18/2014 11:47:00 AM</td>\n",
              "      <td>03/18/2014 11:47:00 AM</td>\n",
              "      <td>03/12/2014</td>\n",
              "      <td>Transfer</td>\n",
              "      <td>Partner</td>\n",
              "      <td>Cat</td>\n",
              "      <td>Intact Male</td>\n",
              "      <td>6 days</td>\n",
              "      <td>Domestic Shorthair Mix</td>\n",
              "      <td>Orange Tabby</td>\n",
              "      <td>Stray</td>\n",
              "      <td>03/18/2014 07:11:00 AM</td>\n",
              "      <td>Intact Male</td>\n",
              "      <td>6 days</td>\n",
              "    </tr>\n",
              "    <tr>\n",
              "      <th>9</th>\n",
              "      <td>A689724</td>\n",
              "      <td>*Donatello</td>\n",
              "      <td>10/18/2014 06:52:00 PM</td>\n",
              "      <td>10/18/2014 06:52:00 PM</td>\n",
              "      <td>08/01/2014</td>\n",
              "      <td>Adoption</td>\n",
              "      <td>NaN</td>\n",
              "      <td>Cat</td>\n",
              "      <td>Neutered Male</td>\n",
              "      <td>2 months</td>\n",
              "      <td>Domestic Shorthair Mix</td>\n",
              "      <td>Black</td>\n",
              "      <td>Stray</td>\n",
              "      <td>10/08/2014 04:39:00 PM</td>\n",
              "      <td>Intact Male</td>\n",
              "      <td>2 months</td>\n",
              "    </tr>\n",
              "    <tr>\n",
              "      <th>10</th>\n",
              "      <td>A680969</td>\n",
              "      <td>*Zeus</td>\n",
              "      <td>08/05/2014 04:59:00 PM</td>\n",
              "      <td>08/05/2014 04:59:00 PM</td>\n",
              "      <td>06/03/2014</td>\n",
              "      <td>Adoption</td>\n",
              "      <td>NaN</td>\n",
              "      <td>Cat</td>\n",
              "      <td>Neutered Male</td>\n",
              "      <td>2 months</td>\n",
              "      <td>Domestic Shorthair Mix</td>\n",
              "      <td>White/Orange Tabby</td>\n",
              "      <td>Stray</td>\n",
              "      <td>06/10/2014 05:53:00 PM</td>\n",
              "      <td>Intact Male</td>\n",
              "      <td>1 week</td>\n",
              "    </tr>\n",
              "    <tr>\n",
              "      <th>11</th>\n",
              "      <td>A684617</td>\n",
              "      <td>NaN</td>\n",
              "      <td>07/27/2014 09:00:00 AM</td>\n",
              "      <td>07/27/2014 09:00:00 AM</td>\n",
              "      <td>07/26/2012</td>\n",
              "      <td>Transfer</td>\n",
              "      <td>SCRP</td>\n",
              "      <td>Cat</td>\n",
              "      <td>Intact Female</td>\n",
              "      <td>2 years</td>\n",
              "      <td>Domestic Shorthair Mix</td>\n",
              "      <td>Black</td>\n",
              "      <td>Stray</td>\n",
              "      <td>07/26/2014 11:34:00 AM</td>\n",
              "      <td>Intact Female</td>\n",
              "      <td>2 years</td>\n",
              "    </tr>\n",
              "    <tr>\n",
              "      <th>12</th>\n",
              "      <td>A742354</td>\n",
              "      <td>Artemis</td>\n",
              "      <td>01/22/2017 11:56:00 AM</td>\n",
              "      <td>01/22/2017 11:56:00 AM</td>\n",
              "      <td>01/20/2010</td>\n",
              "      <td>Return to Owner</td>\n",
              "      <td>NaN</td>\n",
              "      <td>Cat</td>\n",
              "      <td>Neutered Male</td>\n",
              "      <td>7 years</td>\n",
              "      <td>Domestic Shorthair Mix</td>\n",
              "      <td>Blue/White</td>\n",
              "      <td>Stray</td>\n",
              "      <td>01/20/2017 12:28:00 PM</td>\n",
              "      <td>Neutered Male</td>\n",
              "      <td>7 years</td>\n",
              "    </tr>\n",
              "    <tr>\n",
              "      <th>13</th>\n",
              "      <td>A681036</td>\n",
              "      <td>NaN</td>\n",
              "      <td>06/11/2014 05:11:00 PM</td>\n",
              "      <td>06/11/2014 05:11:00 PM</td>\n",
              "      <td>06/09/2014</td>\n",
              "      <td>Transfer</td>\n",
              "      <td>Partner</td>\n",
              "      <td>Cat</td>\n",
              "      <td>Intact Male</td>\n",
              "      <td>2 days</td>\n",
              "      <td>Domestic Shorthair Mix</td>\n",
              "      <td>Brown Tabby</td>\n",
              "      <td>Stray</td>\n",
              "      <td>06/11/2014 03:46:00 PM</td>\n",
              "      <td>Intact Male</td>\n",
              "      <td>2 days</td>\n",
              "    </tr>\n",
              "    <tr>\n",
              "      <th>14</th>\n",
              "      <td>A698049</td>\n",
              "      <td>Luigi</td>\n",
              "      <td>03/16/2015 02:50:00 PM</td>\n",
              "      <td>03/16/2015 02:50:00 PM</td>\n",
              "      <td>06/05/2014</td>\n",
              "      <td>Transfer</td>\n",
              "      <td>Partner</td>\n",
              "      <td>Cat</td>\n",
              "      <td>Spayed Female</td>\n",
              "      <td>9 months</td>\n",
              "      <td>Domestic Medium Hair Mix</td>\n",
              "      <td>Black/White</td>\n",
              "      <td>Public Assist</td>\n",
              "      <td>03/16/2015 06:48:00 PM</td>\n",
              "      <td>Spayed Female</td>\n",
              "      <td>9 months</td>\n",
              "    </tr>\n",
              "    <tr>\n",
              "      <th>15</th>\n",
              "      <td>A698049</td>\n",
              "      <td>Luigi</td>\n",
              "      <td>03/16/2015 02:50:00 PM</td>\n",
              "      <td>03/16/2015 02:50:00 PM</td>\n",
              "      <td>06/05/2014</td>\n",
              "      <td>Transfer</td>\n",
              "      <td>Partner</td>\n",
              "      <td>Cat</td>\n",
              "      <td>Spayed Female</td>\n",
              "      <td>9 months</td>\n",
              "      <td>Domestic Medium Hair Mix</td>\n",
              "      <td>Black/White</td>\n",
              "      <td>Owner Surrender</td>\n",
              "      <td>03/05/2015 01:01:00 PM</td>\n",
              "      <td>Spayed Female</td>\n",
              "      <td>8 months</td>\n",
              "    </tr>\n",
              "    <tr>\n",
              "      <th>16</th>\n",
              "      <td>A698049</td>\n",
              "      <td>Luigi</td>\n",
              "      <td>03/27/2015 11:51:00 AM</td>\n",
              "      <td>03/27/2015 11:51:00 AM</td>\n",
              "      <td>06/05/2014</td>\n",
              "      <td>Return to Owner</td>\n",
              "      <td>NaN</td>\n",
              "      <td>Cat</td>\n",
              "      <td>Spayed Female</td>\n",
              "      <td>9 months</td>\n",
              "      <td>Domestic Medium Hair Mix</td>\n",
              "      <td>Black/White</td>\n",
              "      <td>Public Assist</td>\n",
              "      <td>03/16/2015 06:48:00 PM</td>\n",
              "      <td>Spayed Female</td>\n",
              "      <td>9 months</td>\n",
              "    </tr>\n",
              "    <tr>\n",
              "      <th>17</th>\n",
              "      <td>A698049</td>\n",
              "      <td>Luigi</td>\n",
              "      <td>03/27/2015 11:51:00 AM</td>\n",
              "      <td>03/27/2015 11:51:00 AM</td>\n",
              "      <td>06/05/2014</td>\n",
              "      <td>Return to Owner</td>\n",
              "      <td>NaN</td>\n",
              "      <td>Cat</td>\n",
              "      <td>Spayed Female</td>\n",
              "      <td>9 months</td>\n",
              "      <td>Domestic Medium Hair Mix</td>\n",
              "      <td>Black/White</td>\n",
              "      <td>Owner Surrender</td>\n",
              "      <td>03/05/2015 01:01:00 PM</td>\n",
              "      <td>Spayed Female</td>\n",
              "      <td>8 months</td>\n",
              "    </tr>\n",
              "  </tbody>\n",
              "</table>\n",
              "</div>"
            ],
            "text/plain": [
              "   Animal ID        Name                DateTime               MonthYear  \\\n",
              "8    A674754         NaN  03/18/2014 11:47:00 AM  03/18/2014 11:47:00 AM   \n",
              "9    A689724  *Donatello  10/18/2014 06:52:00 PM  10/18/2014 06:52:00 PM   \n",
              "10   A680969       *Zeus  08/05/2014 04:59:00 PM  08/05/2014 04:59:00 PM   \n",
              "11   A684617         NaN  07/27/2014 09:00:00 AM  07/27/2014 09:00:00 AM   \n",
              "12   A742354     Artemis  01/22/2017 11:56:00 AM  01/22/2017 11:56:00 AM   \n",
              "13   A681036         NaN  06/11/2014 05:11:00 PM  06/11/2014 05:11:00 PM   \n",
              "14   A698049       Luigi  03/16/2015 02:50:00 PM  03/16/2015 02:50:00 PM   \n",
              "15   A698049       Luigi  03/16/2015 02:50:00 PM  03/16/2015 02:50:00 PM   \n",
              "16   A698049       Luigi  03/27/2015 11:51:00 AM  03/27/2015 11:51:00 AM   \n",
              "17   A698049       Luigi  03/27/2015 11:51:00 AM  03/27/2015 11:51:00 AM   \n",
              "\n",
              "   Date of Birth     Outcome Type Outcome Subtype Animal Type  \\\n",
              "8     03/12/2014         Transfer         Partner         Cat   \n",
              "9     08/01/2014         Adoption             NaN         Cat   \n",
              "10    06/03/2014         Adoption             NaN         Cat   \n",
              "11    07/26/2012         Transfer            SCRP         Cat   \n",
              "12    01/20/2010  Return to Owner             NaN         Cat   \n",
              "13    06/09/2014         Transfer         Partner         Cat   \n",
              "14    06/05/2014         Transfer         Partner         Cat   \n",
              "15    06/05/2014         Transfer         Partner         Cat   \n",
              "16    06/05/2014  Return to Owner             NaN         Cat   \n",
              "17    06/05/2014  Return to Owner             NaN         Cat   \n",
              "\n",
              "   Sex upon Outcome Age upon Outcome                     Breed  \\\n",
              "8       Intact Male           6 days    Domestic Shorthair Mix   \n",
              "9     Neutered Male         2 months    Domestic Shorthair Mix   \n",
              "10    Neutered Male         2 months    Domestic Shorthair Mix   \n",
              "11    Intact Female          2 years    Domestic Shorthair Mix   \n",
              "12    Neutered Male          7 years    Domestic Shorthair Mix   \n",
              "13      Intact Male           2 days    Domestic Shorthair Mix   \n",
              "14    Spayed Female         9 months  Domestic Medium Hair Mix   \n",
              "15    Spayed Female         9 months  Domestic Medium Hair Mix   \n",
              "16    Spayed Female         9 months  Domestic Medium Hair Mix   \n",
              "17    Spayed Female         9 months  Domestic Medium Hair Mix   \n",
              "\n",
              "                 Color      Intake Type         Intake DateTime  \\\n",
              "8         Orange Tabby            Stray  03/18/2014 07:11:00 AM   \n",
              "9                Black            Stray  10/08/2014 04:39:00 PM   \n",
              "10  White/Orange Tabby            Stray  06/10/2014 05:53:00 PM   \n",
              "11               Black            Stray  07/26/2014 11:34:00 AM   \n",
              "12          Blue/White            Stray  01/20/2017 12:28:00 PM   \n",
              "13         Brown Tabby            Stray  06/11/2014 03:46:00 PM   \n",
              "14         Black/White    Public Assist  03/16/2015 06:48:00 PM   \n",
              "15         Black/White  Owner Surrender  03/05/2015 01:01:00 PM   \n",
              "16         Black/White    Public Assist  03/16/2015 06:48:00 PM   \n",
              "17         Black/White  Owner Surrender  03/05/2015 01:01:00 PM   \n",
              "\n",
              "   Sex upon Intake Age upon Intake  \n",
              "8      Intact Male          6 days  \n",
              "9      Intact Male        2 months  \n",
              "10     Intact Male          1 week  \n",
              "11   Intact Female         2 years  \n",
              "12   Neutered Male         7 years  \n",
              "13     Intact Male          2 days  \n",
              "14   Spayed Female        9 months  \n",
              "15   Spayed Female        8 months  \n",
              "16   Spayed Female        9 months  \n",
              "17   Spayed Female        8 months  "
            ]
          },
          "metadata": {
            "tags": []
          },
          "execution_count": 18
        }
      ]
    },
    {
      "cell_type": "markdown",
      "metadata": {
        "id": "2ObWdlgReYVs",
        "colab_type": "text"
      },
      "source": [
        "Now to un-break my code by setting shelter_df to result (:"
      ]
    },
    {
      "cell_type": "code",
      "metadata": {
        "id": "N-rxJv8jecVl",
        "colab_type": "code",
        "colab": {}
      },
      "source": [
        "shelter_df = result"
      ],
      "execution_count": 0,
      "outputs": []
    },
    {
      "cell_type": "code",
      "metadata": {
        "id": "jmU2DWusnJ89",
        "colab_type": "code",
        "colab": {}
      },
      "source": [
        "# I won't be using these c:\n",
        "shelter_df = shelter_df.drop( [ 'Animal ID', 'Animal Type' ], axis=1 )"
      ],
      "execution_count": 0,
      "outputs": []
    },
    {
      "cell_type": "markdown",
      "metadata": {
        "id": "BrtiuKC2fe8j",
        "colab_type": "text"
      },
      "source": [
        "Age Upon Outcome is formatted in a way that's unusable without code that would take longer to write than simply creating a new column with proper date-time formatting.. so that's what I'm doing now (:"
      ]
    },
    {
      "cell_type": "code",
      "metadata": {
        "id": "m-gtj8fPioum",
        "colab_type": "code",
        "colab": {}
      },
      "source": [
        "#shelter_df['DateTime'] = pd.to_datetime( shelter_df['DateTime'] )\n",
        "#shelter_df['Date of Birth'] = pd.to_datetime( shelter_df['Date of Birth'] )\n",
        "shelter_df['DateTime'] = shelter_df['DateTime'].apply(pd.to_datetime)\n",
        "#shelter_df.loc['DateTime'] = pd.to_datetime( shelter_df.loc['DateTime'] )\n",
        "#shelter_df.loc['Date of Birth'] = pd.to_datetime( shelter_df.loc['Date of Birth'] )"
      ],
      "execution_count": 0,
      "outputs": []
    },
    {
      "cell_type": "code",
      "metadata": {
        "id": "pbOcBdI8kmTN",
        "colab_type": "code",
        "colab": {}
      },
      "source": [
        "shelter_df['Date of Birth'] = shelter_df['Date of Birth'].apply(pd.to_datetime)"
      ],
      "execution_count": 0,
      "outputs": []
    },
    {
      "cell_type": "code",
      "metadata": {
        "id": "cFcbl6mQk1MW",
        "colab_type": "code",
        "colab": {}
      },
      "source": [
        "shelter_df['Intake DateTime'] = shelter_df['Intake DateTime'].apply(pd.to_datetime)"
      ],
      "execution_count": 0,
      "outputs": []
    },
    {
      "cell_type": "code",
      "metadata": {
        "id": "U38YWVa9fpn0",
        "colab_type": "code",
        "colab": {}
      },
      "source": [
        "#shelter_df['date'] = pd.to_datetime(shelter_df['date'])\n",
        "#shelter_df['Age Upon Outcome DT'] = ( pd.to_datetime( shelter_df['DateTime'] ) - pd.to_datetime( shelter_df['Date of Birth'] ) )\n",
        "#shelter_df['Age Upon Outcome DT'] = ( shelter_df['DateTime'] - shelter_df['Date of Birth'] )\n",
        "shelter_df_temp = shelter_df\n"
      ],
      "execution_count": 0,
      "outputs": []
    },
    {
      "cell_type": "code",
      "metadata": {
        "id": "HB5NS3Qf7Ztp",
        "colab_type": "code",
        "colab": {
          "base_uri": "https://localhost:8080/",
          "height": 35
        },
        "outputId": "09c6b449-708b-471b-c8ff-01c72a6591ff"
      },
      "source": [
        "shelter_df['DateTime'].dtype"
      ],
      "execution_count": 25,
      "outputs": [
        {
          "output_type": "execute_result",
          "data": {
            "text/plain": [
              "dtype('<M8[ns]')"
            ]
          },
          "metadata": {
            "tags": []
          },
          "execution_count": 25
        }
      ]
    },
    {
      "cell_type": "code",
      "metadata": {
        "id": "1Wm68dPw63ca",
        "colab_type": "code",
        "colab": {}
      },
      "source": [
        "shelter_df_temp['Age Upon Outcome DT'] = ( shelter_df['DateTime'] - shelter_df['Date of Birth'] )"
      ],
      "execution_count": 0,
      "outputs": []
    },
    {
      "cell_type": "code",
      "metadata": {
        "id": "PsTS7jRY64Aa",
        "colab_type": "code",
        "colab": {}
      },
      "source": [
        "shelter_df_temp['Duration Of Stay'] = ( shelter_df['DateTime'] - shelter_df['Intake DateTime'] )\n"
      ],
      "execution_count": 0,
      "outputs": []
    },
    {
      "cell_type": "code",
      "metadata": {
        "id": "Aq6OQHfE65cx",
        "colab_type": "code",
        "colab": {
          "base_uri": "https://localhost:8080/",
          "height": 774
        },
        "outputId": "5ca214b0-2ec9-4c67-def4-9bdb703fa677"
      },
      "source": [
        "shelter_df_temp.head(10)"
      ],
      "execution_count": 28,
      "outputs": [
        {
          "output_type": "execute_result",
          "data": {
            "text/html": [
              "<div>\n",
              "<style scoped>\n",
              "    .dataframe tbody tr th:only-of-type {\n",
              "        vertical-align: middle;\n",
              "    }\n",
              "\n",
              "    .dataframe tbody tr th {\n",
              "        vertical-align: top;\n",
              "    }\n",
              "\n",
              "    .dataframe thead th {\n",
              "        text-align: right;\n",
              "    }\n",
              "</style>\n",
              "<table border=\"1\" class=\"dataframe\">\n",
              "  <thead>\n",
              "    <tr style=\"text-align: right;\">\n",
              "      <th></th>\n",
              "      <th>Name</th>\n",
              "      <th>DateTime</th>\n",
              "      <th>MonthYear</th>\n",
              "      <th>Date of Birth</th>\n",
              "      <th>Outcome Type</th>\n",
              "      <th>Outcome Subtype</th>\n",
              "      <th>Sex upon Outcome</th>\n",
              "      <th>Age upon Outcome</th>\n",
              "      <th>Breed</th>\n",
              "      <th>Color</th>\n",
              "      <th>Intake Type</th>\n",
              "      <th>Intake DateTime</th>\n",
              "      <th>Sex upon Intake</th>\n",
              "      <th>Age upon Intake</th>\n",
              "      <th>Age Upon Outcome DT</th>\n",
              "      <th>Duration Of Stay</th>\n",
              "    </tr>\n",
              "  </thead>\n",
              "  <tbody>\n",
              "    <tr>\n",
              "      <th>8</th>\n",
              "      <td>NaN</td>\n",
              "      <td>2014-03-18 11:47:00</td>\n",
              "      <td>03/18/2014 11:47:00 AM</td>\n",
              "      <td>2014-03-12</td>\n",
              "      <td>Transfer</td>\n",
              "      <td>Partner</td>\n",
              "      <td>Intact Male</td>\n",
              "      <td>6 days</td>\n",
              "      <td>Domestic Shorthair Mix</td>\n",
              "      <td>Orange Tabby</td>\n",
              "      <td>Stray</td>\n",
              "      <td>2014-03-18 07:11:00</td>\n",
              "      <td>Intact Male</td>\n",
              "      <td>6 days</td>\n",
              "      <td>6 days 11:47:00</td>\n",
              "      <td>0 days 04:36:00</td>\n",
              "    </tr>\n",
              "    <tr>\n",
              "      <th>9</th>\n",
              "      <td>*Donatello</td>\n",
              "      <td>2014-10-18 18:52:00</td>\n",
              "      <td>10/18/2014 06:52:00 PM</td>\n",
              "      <td>2014-08-01</td>\n",
              "      <td>Adoption</td>\n",
              "      <td>NaN</td>\n",
              "      <td>Neutered Male</td>\n",
              "      <td>2 months</td>\n",
              "      <td>Domestic Shorthair Mix</td>\n",
              "      <td>Black</td>\n",
              "      <td>Stray</td>\n",
              "      <td>2014-10-08 16:39:00</td>\n",
              "      <td>Intact Male</td>\n",
              "      <td>2 months</td>\n",
              "      <td>78 days 18:52:00</td>\n",
              "      <td>10 days 02:13:00</td>\n",
              "    </tr>\n",
              "    <tr>\n",
              "      <th>10</th>\n",
              "      <td>*Zeus</td>\n",
              "      <td>2014-08-05 16:59:00</td>\n",
              "      <td>08/05/2014 04:59:00 PM</td>\n",
              "      <td>2014-06-03</td>\n",
              "      <td>Adoption</td>\n",
              "      <td>NaN</td>\n",
              "      <td>Neutered Male</td>\n",
              "      <td>2 months</td>\n",
              "      <td>Domestic Shorthair Mix</td>\n",
              "      <td>White/Orange Tabby</td>\n",
              "      <td>Stray</td>\n",
              "      <td>2014-06-10 17:53:00</td>\n",
              "      <td>Intact Male</td>\n",
              "      <td>1 week</td>\n",
              "      <td>63 days 16:59:00</td>\n",
              "      <td>55 days 23:06:00</td>\n",
              "    </tr>\n",
              "    <tr>\n",
              "      <th>11</th>\n",
              "      <td>NaN</td>\n",
              "      <td>2014-07-27 09:00:00</td>\n",
              "      <td>07/27/2014 09:00:00 AM</td>\n",
              "      <td>2012-07-26</td>\n",
              "      <td>Transfer</td>\n",
              "      <td>SCRP</td>\n",
              "      <td>Intact Female</td>\n",
              "      <td>2 years</td>\n",
              "      <td>Domestic Shorthair Mix</td>\n",
              "      <td>Black</td>\n",
              "      <td>Stray</td>\n",
              "      <td>2014-07-26 11:34:00</td>\n",
              "      <td>Intact Female</td>\n",
              "      <td>2 years</td>\n",
              "      <td>731 days 09:00:00</td>\n",
              "      <td>0 days 21:26:00</td>\n",
              "    </tr>\n",
              "    <tr>\n",
              "      <th>12</th>\n",
              "      <td>Artemis</td>\n",
              "      <td>2017-01-22 11:56:00</td>\n",
              "      <td>01/22/2017 11:56:00 AM</td>\n",
              "      <td>2010-01-20</td>\n",
              "      <td>Return to Owner</td>\n",
              "      <td>NaN</td>\n",
              "      <td>Neutered Male</td>\n",
              "      <td>7 years</td>\n",
              "      <td>Domestic Shorthair Mix</td>\n",
              "      <td>Blue/White</td>\n",
              "      <td>Stray</td>\n",
              "      <td>2017-01-20 12:28:00</td>\n",
              "      <td>Neutered Male</td>\n",
              "      <td>7 years</td>\n",
              "      <td>2559 days 11:56:00</td>\n",
              "      <td>1 days 23:28:00</td>\n",
              "    </tr>\n",
              "    <tr>\n",
              "      <th>13</th>\n",
              "      <td>NaN</td>\n",
              "      <td>2014-06-11 17:11:00</td>\n",
              "      <td>06/11/2014 05:11:00 PM</td>\n",
              "      <td>2014-06-09</td>\n",
              "      <td>Transfer</td>\n",
              "      <td>Partner</td>\n",
              "      <td>Intact Male</td>\n",
              "      <td>2 days</td>\n",
              "      <td>Domestic Shorthair Mix</td>\n",
              "      <td>Brown Tabby</td>\n",
              "      <td>Stray</td>\n",
              "      <td>2014-06-11 15:46:00</td>\n",
              "      <td>Intact Male</td>\n",
              "      <td>2 days</td>\n",
              "      <td>2 days 17:11:00</td>\n",
              "      <td>0 days 01:25:00</td>\n",
              "    </tr>\n",
              "    <tr>\n",
              "      <th>14</th>\n",
              "      <td>Luigi</td>\n",
              "      <td>2015-03-16 14:50:00</td>\n",
              "      <td>03/16/2015 02:50:00 PM</td>\n",
              "      <td>2014-06-05</td>\n",
              "      <td>Transfer</td>\n",
              "      <td>Partner</td>\n",
              "      <td>Spayed Female</td>\n",
              "      <td>9 months</td>\n",
              "      <td>Domestic Medium Hair Mix</td>\n",
              "      <td>Black/White</td>\n",
              "      <td>Public Assist</td>\n",
              "      <td>2015-03-16 18:48:00</td>\n",
              "      <td>Spayed Female</td>\n",
              "      <td>9 months</td>\n",
              "      <td>284 days 14:50:00</td>\n",
              "      <td>-1 days +20:02:00</td>\n",
              "    </tr>\n",
              "    <tr>\n",
              "      <th>15</th>\n",
              "      <td>Luigi</td>\n",
              "      <td>2015-03-16 14:50:00</td>\n",
              "      <td>03/16/2015 02:50:00 PM</td>\n",
              "      <td>2014-06-05</td>\n",
              "      <td>Transfer</td>\n",
              "      <td>Partner</td>\n",
              "      <td>Spayed Female</td>\n",
              "      <td>9 months</td>\n",
              "      <td>Domestic Medium Hair Mix</td>\n",
              "      <td>Black/White</td>\n",
              "      <td>Owner Surrender</td>\n",
              "      <td>2015-03-05 13:01:00</td>\n",
              "      <td>Spayed Female</td>\n",
              "      <td>8 months</td>\n",
              "      <td>284 days 14:50:00</td>\n",
              "      <td>11 days 01:49:00</td>\n",
              "    </tr>\n",
              "    <tr>\n",
              "      <th>16</th>\n",
              "      <td>Luigi</td>\n",
              "      <td>2015-03-27 11:51:00</td>\n",
              "      <td>03/27/2015 11:51:00 AM</td>\n",
              "      <td>2014-06-05</td>\n",
              "      <td>Return to Owner</td>\n",
              "      <td>NaN</td>\n",
              "      <td>Spayed Female</td>\n",
              "      <td>9 months</td>\n",
              "      <td>Domestic Medium Hair Mix</td>\n",
              "      <td>Black/White</td>\n",
              "      <td>Public Assist</td>\n",
              "      <td>2015-03-16 18:48:00</td>\n",
              "      <td>Spayed Female</td>\n",
              "      <td>9 months</td>\n",
              "      <td>295 days 11:51:00</td>\n",
              "      <td>10 days 17:03:00</td>\n",
              "    </tr>\n",
              "    <tr>\n",
              "      <th>17</th>\n",
              "      <td>Luigi</td>\n",
              "      <td>2015-03-27 11:51:00</td>\n",
              "      <td>03/27/2015 11:51:00 AM</td>\n",
              "      <td>2014-06-05</td>\n",
              "      <td>Return to Owner</td>\n",
              "      <td>NaN</td>\n",
              "      <td>Spayed Female</td>\n",
              "      <td>9 months</td>\n",
              "      <td>Domestic Medium Hair Mix</td>\n",
              "      <td>Black/White</td>\n",
              "      <td>Owner Surrender</td>\n",
              "      <td>2015-03-05 13:01:00</td>\n",
              "      <td>Spayed Female</td>\n",
              "      <td>8 months</td>\n",
              "      <td>295 days 11:51:00</td>\n",
              "      <td>21 days 22:50:00</td>\n",
              "    </tr>\n",
              "  </tbody>\n",
              "</table>\n",
              "</div>"
            ],
            "text/plain": [
              "          Name            DateTime               MonthYear Date of Birth  \\\n",
              "8          NaN 2014-03-18 11:47:00  03/18/2014 11:47:00 AM    2014-03-12   \n",
              "9   *Donatello 2014-10-18 18:52:00  10/18/2014 06:52:00 PM    2014-08-01   \n",
              "10       *Zeus 2014-08-05 16:59:00  08/05/2014 04:59:00 PM    2014-06-03   \n",
              "11         NaN 2014-07-27 09:00:00  07/27/2014 09:00:00 AM    2012-07-26   \n",
              "12     Artemis 2017-01-22 11:56:00  01/22/2017 11:56:00 AM    2010-01-20   \n",
              "13         NaN 2014-06-11 17:11:00  06/11/2014 05:11:00 PM    2014-06-09   \n",
              "14       Luigi 2015-03-16 14:50:00  03/16/2015 02:50:00 PM    2014-06-05   \n",
              "15       Luigi 2015-03-16 14:50:00  03/16/2015 02:50:00 PM    2014-06-05   \n",
              "16       Luigi 2015-03-27 11:51:00  03/27/2015 11:51:00 AM    2014-06-05   \n",
              "17       Luigi 2015-03-27 11:51:00  03/27/2015 11:51:00 AM    2014-06-05   \n",
              "\n",
              "       Outcome Type Outcome Subtype Sex upon Outcome Age upon Outcome  \\\n",
              "8          Transfer         Partner      Intact Male           6 days   \n",
              "9          Adoption             NaN    Neutered Male         2 months   \n",
              "10         Adoption             NaN    Neutered Male         2 months   \n",
              "11         Transfer            SCRP    Intact Female          2 years   \n",
              "12  Return to Owner             NaN    Neutered Male          7 years   \n",
              "13         Transfer         Partner      Intact Male           2 days   \n",
              "14         Transfer         Partner    Spayed Female         9 months   \n",
              "15         Transfer         Partner    Spayed Female         9 months   \n",
              "16  Return to Owner             NaN    Spayed Female         9 months   \n",
              "17  Return to Owner             NaN    Spayed Female         9 months   \n",
              "\n",
              "                       Breed               Color      Intake Type  \\\n",
              "8     Domestic Shorthair Mix        Orange Tabby            Stray   \n",
              "9     Domestic Shorthair Mix               Black            Stray   \n",
              "10    Domestic Shorthair Mix  White/Orange Tabby            Stray   \n",
              "11    Domestic Shorthair Mix               Black            Stray   \n",
              "12    Domestic Shorthair Mix          Blue/White            Stray   \n",
              "13    Domestic Shorthair Mix         Brown Tabby            Stray   \n",
              "14  Domestic Medium Hair Mix         Black/White    Public Assist   \n",
              "15  Domestic Medium Hair Mix         Black/White  Owner Surrender   \n",
              "16  Domestic Medium Hair Mix         Black/White    Public Assist   \n",
              "17  Domestic Medium Hair Mix         Black/White  Owner Surrender   \n",
              "\n",
              "       Intake DateTime Sex upon Intake Age upon Intake Age Upon Outcome DT  \\\n",
              "8  2014-03-18 07:11:00     Intact Male          6 days     6 days 11:47:00   \n",
              "9  2014-10-08 16:39:00     Intact Male        2 months    78 days 18:52:00   \n",
              "10 2014-06-10 17:53:00     Intact Male          1 week    63 days 16:59:00   \n",
              "11 2014-07-26 11:34:00   Intact Female         2 years   731 days 09:00:00   \n",
              "12 2017-01-20 12:28:00   Neutered Male         7 years  2559 days 11:56:00   \n",
              "13 2014-06-11 15:46:00     Intact Male          2 days     2 days 17:11:00   \n",
              "14 2015-03-16 18:48:00   Spayed Female        9 months   284 days 14:50:00   \n",
              "15 2015-03-05 13:01:00   Spayed Female        8 months   284 days 14:50:00   \n",
              "16 2015-03-16 18:48:00   Spayed Female        9 months   295 days 11:51:00   \n",
              "17 2015-03-05 13:01:00   Spayed Female        8 months   295 days 11:51:00   \n",
              "\n",
              "    Duration Of Stay  \n",
              "8    0 days 04:36:00  \n",
              "9   10 days 02:13:00  \n",
              "10  55 days 23:06:00  \n",
              "11   0 days 21:26:00  \n",
              "12   1 days 23:28:00  \n",
              "13   0 days 01:25:00  \n",
              "14 -1 days +20:02:00  \n",
              "15  11 days 01:49:00  \n",
              "16  10 days 17:03:00  \n",
              "17  21 days 22:50:00  "
            ]
          },
          "metadata": {
            "tags": []
          },
          "execution_count": 28
        }
      ]
    },
    {
      "cell_type": "code",
      "metadata": {
        "id": "qfH8DnlKoYwU",
        "colab_type": "code",
        "colab": {
          "base_uri": "https://localhost:8080/",
          "height": 173
        },
        "outputId": "0a2b1bbc-a778-4927-dd33-e7b39a15f52b"
      },
      "source": [
        "shelter_df['Outcome Type'].value_counts()"
      ],
      "execution_count": 29,
      "outputs": [
        {
          "output_type": "execute_result",
          "data": {
            "text/plain": [
              "Adoption           21768\n",
              "Transfer           19885\n",
              "Return to Owner     2506\n",
              "Euthanasia          1834\n",
              "Died                 631\n",
              "Rto-Adopt            119\n",
              "Disposal              45\n",
              "Missing               38\n",
              "Name: Outcome Type, dtype: int64"
            ]
          },
          "metadata": {
            "tags": []
          },
          "execution_count": 29
        }
      ]
    },
    {
      "cell_type": "code",
      "metadata": {
        "id": "ll4tHia2o9QR",
        "colab_type": "code",
        "colab": {
          "base_uri": "https://localhost:8080/",
          "height": 338
        },
        "outputId": "0b01b123-a9bf-4147-9cde-acdc7525ae75"
      },
      "source": [
        "shelter_df['Outcome Type'].value_counts().plot.bar();"
      ],
      "execution_count": 30,
      "outputs": [
        {
          "output_type": "display_data",
          "data": {
            "image/png": "[encoded data removed]",
            "text/plain": [
              "<Figure size 432x288 with 1 Axes>"
            ]
          },
          "metadata": {
            "tags": []
          }
        }
      ]
    },
    {
      "cell_type": "code",
      "metadata": {
        "id": "Icfk1AoXPlpz",
        "colab_type": "code",
        "colab": {}
      },
      "source": [
        "shelter_df = shelter_df_temp"
      ],
      "execution_count": 0,
      "outputs": []
    },
    {
      "cell_type": "code",
      "metadata": {
        "id": "OzR2N_Z0P8gU",
        "colab_type": "code",
        "colab": {
          "base_uri": "https://localhost:8080/",
          "height": 35
        },
        "outputId": "49b24f85-3983-43b7-84b7-48cfad791082"
      },
      "source": [
        "condition = shelter_df['Outcome Type'] == 'Adopted'\n",
        "shelter_df['Outcome Type'][condition]"
      ],
      "execution_count": 32,
      "outputs": [
        {
          "output_type": "execute_result",
          "data": {
            "text/plain": [
              "Series([], Name: Outcome Type, dtype: object)"
            ]
          },
          "metadata": {
            "tags": []
          },
          "execution_count": 32
        }
      ]
    },
    {
      "cell_type": "code",
      "metadata": {
        "id": "TFkc1gR-QVex",
        "colab_type": "code",
        "colab": {
          "base_uri": "https://localhost:8080/",
          "height": 243
        },
        "outputId": "8e125791-e2ac-459c-b219-328565505f9e"
      },
      "source": [
        "shelter_df['DateTime'].dt.month.value_counts().sort_index()"
      ],
      "execution_count": 33,
      "outputs": [
        {
          "output_type": "execute_result",
          "data": {
            "text/plain": [
              "1     2661\n",
              "2     1958\n",
              "3     2251\n",
              "4     2785\n",
              "5     4079\n",
              "6     5576\n",
              "7     5660\n",
              "8     5127\n",
              "9     4483\n",
              "10    4491\n",
              "11    4076\n",
              "12    3679\n",
              "Name: DateTime, dtype: int64"
            ]
          },
          "metadata": {
            "tags": []
          },
          "execution_count": 33
        }
      ]
    },
    {
      "cell_type": "code",
      "metadata": {
        "id": "fDF343cKRn1k",
        "colab_type": "code",
        "colab": {
          "base_uri": "https://localhost:8080/",
          "height": 35
        },
        "outputId": "d0154ead-2dcf-444b-b930-5bdd002a3189"
      },
      "source": [
        "shelter_df['DateTime'][condition]"
      ],
      "execution_count": 34,
      "outputs": [
        {
          "output_type": "execute_result",
          "data": {
            "text/plain": [
              "Series([], Name: DateTime, dtype: datetime64[ns])"
            ]
          },
          "metadata": {
            "tags": []
          },
          "execution_count": 34
        }
      ]
    },
    {
      "cell_type": "code",
      "metadata": {
        "id": "UX0pYv4NS53e",
        "colab_type": "code",
        "colab": {
          "base_uri": "https://localhost:8080/",
          "height": 35
        },
        "outputId": "c9369ad2-ba7e-4a84-d77e-5f1ea8f7b902"
      },
      "source": [
        "adopted_slice = shelter_df['DateTime'][condition]\n",
        "adopted_slice.head(10)"
      ],
      "execution_count": 35,
      "outputs": [
        {
          "output_type": "execute_result",
          "data": {
            "text/plain": [
              "Series([], Name: DateTime, dtype: datetime64[ns])"
            ]
          },
          "metadata": {
            "tags": []
          },
          "execution_count": 35
        }
      ]
    },
    {
      "cell_type": "code",
      "metadata": {
        "id": "eU4fmgX4TN7S",
        "colab_type": "code",
        "colab": {
          "base_uri": "https://localhost:8080/",
          "height": 35
        },
        "outputId": "49a2e231-735b-4239-c849-bf5cd1812575"
      },
      "source": [
        "adopted_slice.dt.month"
      ],
      "execution_count": 36,
      "outputs": [
        {
          "output_type": "execute_result",
          "data": {
            "text/plain": [
              "Series([], Name: DateTime, dtype: int64)"
            ]
          },
          "metadata": {
            "tags": []
          },
          "execution_count": 36
        }
      ]
    },
    {
      "cell_type": "code",
      "metadata": {
        "id": "H1NP5UdJofaq",
        "colab_type": "code",
        "colab": {
          "base_uri": "https://localhost:8080/",
          "height": 279
        },
        "outputId": "e8816788-8665-4705-c6bd-8a0fc881d4be"
      },
      "source": [
        "#shelter_df['Age upon Outcome'].plot.density();\n",
        "#pd.to_datetime(shelter_df['DateTime'][condition]).dt.month.plot.density();\n",
        "plt.xticks(np.arange(0, 13, 1.0))\n",
        "plt.xlabel(['Jan', 'Feb', 'Mar', 'Apr', 'May', 'June', 'July', 'Aug', 'Sept', 'Oct', 'Nov', 'Dec'])\n",
        "#shelter_df['DateTime'][condition].dt.month.plot.density();\n",
        "#adopted_slice.dt.month.plot.density();\n",
        "shelter_df['DateTime'].dt.month.plot.density();\n",
        "plt.show()"
      ],
      "execution_count": 37,
      "outputs": [
        {
          "output_type": "display_data",
          "data": {
            "image/png": "[encoded data removed]",
            "text/plain": [
              "<Figure size 432x288 with 1 Axes>"
            ]
          },
          "metadata": {
            "tags": []
          }
        }
      ]
    },
    {
      "cell_type": "code",
      "metadata": {
        "id": "448lxA9prPBu",
        "colab_type": "code",
        "colab": {
          "base_uri": "https://localhost:8080/",
          "height": 283
        },
        "outputId": "13d92938-ca8c-477a-b4b2-3ec9a100b874"
      },
      "source": [
        "plt.xticks(np.arange(0, 13, 1.0))\n",
        "plt.xlabel(['Jan', 'Feb', 'Mar', 'Apr', 'May', 'June', 'July', 'Aug', 'Sept', 'Oct', 'Nov', 'Dec'])\n",
        "\n",
        "shelter_df['Intake DateTime'].dt.month.plot.density();\n",
        "plt.show()"
      ],
      "execution_count": 38,
      "outputs": [
        {
          "output_type": "display_data",
          "data": {
            "image/png": "[encoded data removed]",
            "text/plain": [
              "<Figure size 432x288 with 1 Axes>"
            ]
          },
          "metadata": {
            "tags": []
          }
        }
      ]
    },
    {
      "cell_type": "code",
      "metadata": {
        "id": "na5A0BgmT-eL",
        "colab_type": "code",
        "colab": {
          "base_uri": "https://localhost:8080/",
          "height": 265
        },
        "outputId": "5d4e614a-7f98-4d3b-c6fa-c00e8e6d1534"
      },
      "source": [
        "plt.xticks(np.arange(0, 5, 90.0))\n",
        "#plt.xlabel(['Jan', 'Feb', 'Mar', 'Apr', 'May', 'June', 'July', 'Aug', 'Sept', 'Oct', 'Nov', 'Dec'])\n",
        "shelter_df['Age Upon Outcome DT'].dt.days.plot.density();\n",
        "#shelter_df['Intake DateTime'].dt.month.plot.density();\n",
        "plt.show()"
      ],
      "execution_count": 39,
      "outputs": [
        {
          "output_type": "display_data",
          "data": {
            "image/png": "[encoded data removed]",
            "text/plain": [
              "<Figure size 432x288 with 1 Axes>"
            ]
          },
          "metadata": {
            "tags": []
          }
        }
      ]
    },
    {
      "cell_type": "code",
      "metadata": {
        "id": "gOsZnUaVcnih",
        "colab_type": "code",
        "colab": {}
      },
      "source": [
        "condition = shelter_df['Outcome Type'] == 'Adoption'\n",
        "shelter_df['Outcome Type'] = shelter_df['Outcome Type'][condition]"
      ],
      "execution_count": 0,
      "outputs": []
    },
    {
      "cell_type": "markdown",
      "metadata": {
        "id": "UDmcRb5ssCoj",
        "colab_type": "text"
      },
      "source": [
        "I'm noticing that the data shows a signficant portion of cats which are adopted are between 0 and 1 years old, followed by a preference order of roughly 1 - 4 years, and from there it seems like if you're willing to adopt an older cat than that it no longer matters all that much how old the cat is - I hypothesize, even, that the low number of cats available in the after 13 year range may be the reason for the drop off. Lots of data exploration lies ahead!\n",
        "\n",
        "I want to start by normalizing the data around population age - so that the fewer number of older cats (if even true) doesn't impact the data with a significant bias toward younger cats - even though I strongly believe that in the real world such a bias does exist, I don't need to inflate that bias by infusing it with a selection bias as well.\n",
        "\n",
        "I'm not entirely sure if this dataset even has the data I need to normalize, but I'm going to try nonetheless! :D\n",
        "\n",
        "Actually, it has to - this dataset includes ALL cats - not just those that were adopted - and therefor my initial paragraph is based in error - this is the total population age density - not just those that were adopted."
      ]
    },
    {
      "cell_type": "code",
      "metadata": {
        "id": "3l-0coUCdKVO",
        "colab_type": "code",
        "colab": {
          "base_uri": "https://localhost:8080/",
          "height": 774
        },
        "outputId": "5fd56b08-f733-4be1-8d3c-89236160fb50"
      },
      "source": [
        "shelter_df.head(10)"
      ],
      "execution_count": 41,
      "outputs": [
        {
          "output_type": "execute_result",
          "data": {
            "text/html": [
              "<div>\n",
              "<style scoped>\n",
              "    .dataframe tbody tr th:only-of-type {\n",
              "        vertical-align: middle;\n",
              "    }\n",
              "\n",
              "    .dataframe tbody tr th {\n",
              "        vertical-align: top;\n",
              "    }\n",
              "\n",
              "    .dataframe thead th {\n",
              "        text-align: right;\n",
              "    }\n",
              "</style>\n",
              "<table border=\"1\" class=\"dataframe\">\n",
              "  <thead>\n",
              "    <tr style=\"text-align: right;\">\n",
              "      <th></th>\n",
              "      <th>Name</th>\n",
              "      <th>DateTime</th>\n",
              "      <th>MonthYear</th>\n",
              "      <th>Date of Birth</th>\n",
              "      <th>Outcome Type</th>\n",
              "      <th>Outcome Subtype</th>\n",
              "      <th>Sex upon Outcome</th>\n",
              "      <th>Age upon Outcome</th>\n",
              "      <th>Breed</th>\n",
              "      <th>Color</th>\n",
              "      <th>Intake Type</th>\n",
              "      <th>Intake DateTime</th>\n",
              "      <th>Sex upon Intake</th>\n",
              "      <th>Age upon Intake</th>\n",
              "      <th>Age Upon Outcome DT</th>\n",
              "      <th>Duration Of Stay</th>\n",
              "    </tr>\n",
              "  </thead>\n",
              "  <tbody>\n",
              "    <tr>\n",
              "      <th>8</th>\n",
              "      <td>NaN</td>\n",
              "      <td>2014-03-18 11:47:00</td>\n",
              "      <td>03/18/2014 11:47:00 AM</td>\n",
              "      <td>2014-03-12</td>\n",
              "      <td>NaN</td>\n",
              "      <td>Partner</td>\n",
              "      <td>Intact Male</td>\n",
              "      <td>6 days</td>\n",
              "      <td>Domestic Shorthair Mix</td>\n",
              "      <td>Orange Tabby</td>\n",
              "      <td>Stray</td>\n",
              "      <td>2014-03-18 07:11:00</td>\n",
              "      <td>Intact Male</td>\n",
              "      <td>6 days</td>\n",
              "      <td>6 days 11:47:00</td>\n",
              "      <td>0 days 04:36:00</td>\n",
              "    </tr>\n",
              "    <tr>\n",
              "      <th>9</th>\n",
              "      <td>*Donatello</td>\n",
              "      <td>2014-10-18 18:52:00</td>\n",
              "      <td>10/18/2014 06:52:00 PM</td>\n",
              "      <td>2014-08-01</td>\n",
              "      <td>Adoption</td>\n",
              "      <td>NaN</td>\n",
              "      <td>Neutered Male</td>\n",
              "      <td>2 months</td>\n",
              "      <td>Domestic Shorthair Mix</td>\n",
              "      <td>Black</td>\n",
              "      <td>Stray</td>\n",
              "      <td>2014-10-08 16:39:00</td>\n",
              "      <td>Intact Male</td>\n",
              "      <td>2 months</td>\n",
              "      <td>78 days 18:52:00</td>\n",
              "      <td>10 days 02:13:00</td>\n",
              "    </tr>\n",
              "    <tr>\n",
              "      <th>10</th>\n",
              "      <td>*Zeus</td>\n",
              "      <td>2014-08-05 16:59:00</td>\n",
              "      <td>08/05/2014 04:59:00 PM</td>\n",
              "      <td>2014-06-03</td>\n",
              "      <td>Adoption</td>\n",
              "      <td>NaN</td>\n",
              "      <td>Neutered Male</td>\n",
              "      <td>2 months</td>\n",
              "      <td>Domestic Shorthair Mix</td>\n",
              "      <td>White/Orange Tabby</td>\n",
              "      <td>Stray</td>\n",
              "      <td>2014-06-10 17:53:00</td>\n",
              "      <td>Intact Male</td>\n",
              "      <td>1 week</td>\n",
              "      <td>63 days 16:59:00</td>\n",
              "      <td>55 days 23:06:00</td>\n",
              "    </tr>\n",
              "    <tr>\n",
              "      <th>11</th>\n",
              "      <td>NaN</td>\n",
              "      <td>2014-07-27 09:00:00</td>\n",
              "      <td>07/27/2014 09:00:00 AM</td>\n",
              "      <td>2012-07-26</td>\n",
              "      <td>NaN</td>\n",
              "      <td>SCRP</td>\n",
              "      <td>Intact Female</td>\n",
              "      <td>2 years</td>\n",
              "      <td>Domestic Shorthair Mix</td>\n",
              "      <td>Black</td>\n",
              "      <td>Stray</td>\n",
              "      <td>2014-07-26 11:34:00</td>\n",
              "      <td>Intact Female</td>\n",
              "      <td>2 years</td>\n",
              "      <td>731 days 09:00:00</td>\n",
              "      <td>0 days 21:26:00</td>\n",
              "    </tr>\n",
              "    <tr>\n",
              "      <th>12</th>\n",
              "      <td>Artemis</td>\n",
              "      <td>2017-01-22 11:56:00</td>\n",
              "      <td>01/22/2017 11:56:00 AM</td>\n",
              "      <td>2010-01-20</td>\n",
              "      <td>NaN</td>\n",
              "      <td>NaN</td>\n",
              "      <td>Neutered Male</td>\n",
              "      <td>7 years</td>\n",
              "      <td>Domestic Shorthair Mix</td>\n",
              "      <td>Blue/White</td>\n",
              "      <td>Stray</td>\n",
              "      <td>2017-01-20 12:28:00</td>\n",
              "      <td>Neutered Male</td>\n",
              "      <td>7 years</td>\n",
              "      <td>2559 days 11:56:00</td>\n",
              "      <td>1 days 23:28:00</td>\n",
              "    </tr>\n",
              "    <tr>\n",
              "      <th>13</th>\n",
              "      <td>NaN</td>\n",
              "      <td>2014-06-11 17:11:00</td>\n",
              "      <td>06/11/2014 05:11:00 PM</td>\n",
              "      <td>2014-06-09</td>\n",
              "      <td>NaN</td>\n",
              "      <td>Partner</td>\n",
              "      <td>Intact Male</td>\n",
              "      <td>2 days</td>\n",
              "      <td>Domestic Shorthair Mix</td>\n",
              "      <td>Brown Tabby</td>\n",
              "      <td>Stray</td>\n",
              "      <td>2014-06-11 15:46:00</td>\n",
              "      <td>Intact Male</td>\n",
              "      <td>2 days</td>\n",
              "      <td>2 days 17:11:00</td>\n",
              "      <td>0 days 01:25:00</td>\n",
              "    </tr>\n",
              "    <tr>\n",
              "      <th>14</th>\n",
              "      <td>Luigi</td>\n",
              "      <td>2015-03-16 14:50:00</td>\n",
              "      <td>03/16/2015 02:50:00 PM</td>\n",
              "      <td>2014-06-05</td>\n",
              "      <td>NaN</td>\n",
              "      <td>Partner</td>\n",
              "      <td>Spayed Female</td>\n",
              "      <td>9 months</td>\n",
              "      <td>Domestic Medium Hair Mix</td>\n",
              "      <td>Black/White</td>\n",
              "      <td>Public Assist</td>\n",
              "      <td>2015-03-16 18:48:00</td>\n",
              "      <td>Spayed Female</td>\n",
              "      <td>9 months</td>\n",
              "      <td>284 days 14:50:00</td>\n",
              "      <td>-1 days +20:02:00</td>\n",
              "    </tr>\n",
              "    <tr>\n",
              "      <th>15</th>\n",
              "      <td>Luigi</td>\n",
              "      <td>2015-03-16 14:50:00</td>\n",
              "      <td>03/16/2015 02:50:00 PM</td>\n",
              "      <td>2014-06-05</td>\n",
              "      <td>NaN</td>\n",
              "      <td>Partner</td>\n",
              "      <td>Spayed Female</td>\n",
              "      <td>9 months</td>\n",
              "      <td>Domestic Medium Hair Mix</td>\n",
              "      <td>Black/White</td>\n",
              "      <td>Owner Surrender</td>\n",
              "      <td>2015-03-05 13:01:00</td>\n",
              "      <td>Spayed Female</td>\n",
              "      <td>8 months</td>\n",
              "      <td>284 days 14:50:00</td>\n",
              "      <td>11 days 01:49:00</td>\n",
              "    </tr>\n",
              "    <tr>\n",
              "      <th>16</th>\n",
              "      <td>Luigi</td>\n",
              "      <td>2015-03-27 11:51:00</td>\n",
              "      <td>03/27/2015 11:51:00 AM</td>\n",
              "      <td>2014-06-05</td>\n",
              "      <td>NaN</td>\n",
              "      <td>NaN</td>\n",
              "      <td>Spayed Female</td>\n",
              "      <td>9 months</td>\n",
              "      <td>Domestic Medium Hair Mix</td>\n",
              "      <td>Black/White</td>\n",
              "      <td>Public Assist</td>\n",
              "      <td>2015-03-16 18:48:00</td>\n",
              "      <td>Spayed Female</td>\n",
              "      <td>9 months</td>\n",
              "      <td>295 days 11:51:00</td>\n",
              "      <td>10 days 17:03:00</td>\n",
              "    </tr>\n",
              "    <tr>\n",
              "      <th>17</th>\n",
              "      <td>Luigi</td>\n",
              "      <td>2015-03-27 11:51:00</td>\n",
              "      <td>03/27/2015 11:51:00 AM</td>\n",
              "      <td>2014-06-05</td>\n",
              "      <td>NaN</td>\n",
              "      <td>NaN</td>\n",
              "      <td>Spayed Female</td>\n",
              "      <td>9 months</td>\n",
              "      <td>Domestic Medium Hair Mix</td>\n",
              "      <td>Black/White</td>\n",
              "      <td>Owner Surrender</td>\n",
              "      <td>2015-03-05 13:01:00</td>\n",
              "      <td>Spayed Female</td>\n",
              "      <td>8 months</td>\n",
              "      <td>295 days 11:51:00</td>\n",
              "      <td>21 days 22:50:00</td>\n",
              "    </tr>\n",
              "  </tbody>\n",
              "</table>\n",
              "</div>"
            ],
            "text/plain": [
              "          Name            DateTime               MonthYear Date of Birth  \\\n",
              "8          NaN 2014-03-18 11:47:00  03/18/2014 11:47:00 AM    2014-03-12   \n",
              "9   *Donatello 2014-10-18 18:52:00  10/18/2014 06:52:00 PM    2014-08-01   \n",
              "10       *Zeus 2014-08-05 16:59:00  08/05/2014 04:59:00 PM    2014-06-03   \n",
              "11         NaN 2014-07-27 09:00:00  07/27/2014 09:00:00 AM    2012-07-26   \n",
              "12     Artemis 2017-01-22 11:56:00  01/22/2017 11:56:00 AM    2010-01-20   \n",
              "13         NaN 2014-06-11 17:11:00  06/11/2014 05:11:00 PM    2014-06-09   \n",
              "14       Luigi 2015-03-16 14:50:00  03/16/2015 02:50:00 PM    2014-06-05   \n",
              "15       Luigi 2015-03-16 14:50:00  03/16/2015 02:50:00 PM    2014-06-05   \n",
              "16       Luigi 2015-03-27 11:51:00  03/27/2015 11:51:00 AM    2014-06-05   \n",
              "17       Luigi 2015-03-27 11:51:00  03/27/2015 11:51:00 AM    2014-06-05   \n",
              "\n",
              "   Outcome Type Outcome Subtype Sex upon Outcome Age upon Outcome  \\\n",
              "8           NaN         Partner      Intact Male           6 days   \n",
              "9      Adoption             NaN    Neutered Male         2 months   \n",
              "10     Adoption             NaN    Neutered Male         2 months   \n",
              "11          NaN            SCRP    Intact Female          2 years   \n",
              "12          NaN             NaN    Neutered Male          7 years   \n",
              "13          NaN         Partner      Intact Male           2 days   \n",
              "14          NaN         Partner    Spayed Female         9 months   \n",
              "15          NaN         Partner    Spayed Female         9 months   \n",
              "16          NaN             NaN    Spayed Female         9 months   \n",
              "17          NaN             NaN    Spayed Female         9 months   \n",
              "\n",
              "                       Breed               Color      Intake Type  \\\n",
              "8     Domestic Shorthair Mix        Orange Tabby            Stray   \n",
              "9     Domestic Shorthair Mix               Black            Stray   \n",
              "10    Domestic Shorthair Mix  White/Orange Tabby            Stray   \n",
              "11    Domestic Shorthair Mix               Black            Stray   \n",
              "12    Domestic Shorthair Mix          Blue/White            Stray   \n",
              "13    Domestic Shorthair Mix         Brown Tabby            Stray   \n",
              "14  Domestic Medium Hair Mix         Black/White    Public Assist   \n",
              "15  Domestic Medium Hair Mix         Black/White  Owner Surrender   \n",
              "16  Domestic Medium Hair Mix         Black/White    Public Assist   \n",
              "17  Domestic Medium Hair Mix         Black/White  Owner Surrender   \n",
              "\n",
              "       Intake DateTime Sex upon Intake Age upon Intake Age Upon Outcome DT  \\\n",
              "8  2014-03-18 07:11:00     Intact Male          6 days     6 days 11:47:00   \n",
              "9  2014-10-08 16:39:00     Intact Male        2 months    78 days 18:52:00   \n",
              "10 2014-06-10 17:53:00     Intact Male          1 week    63 days 16:59:00   \n",
              "11 2014-07-26 11:34:00   Intact Female         2 years   731 days 09:00:00   \n",
              "12 2017-01-20 12:28:00   Neutered Male         7 years  2559 days 11:56:00   \n",
              "13 2014-06-11 15:46:00     Intact Male          2 days     2 days 17:11:00   \n",
              "14 2015-03-16 18:48:00   Spayed Female        9 months   284 days 14:50:00   \n",
              "15 2015-03-05 13:01:00   Spayed Female        8 months   284 days 14:50:00   \n",
              "16 2015-03-16 18:48:00   Spayed Female        9 months   295 days 11:51:00   \n",
              "17 2015-03-05 13:01:00   Spayed Female        8 months   295 days 11:51:00   \n",
              "\n",
              "    Duration Of Stay  \n",
              "8    0 days 04:36:00  \n",
              "9   10 days 02:13:00  \n",
              "10  55 days 23:06:00  \n",
              "11   0 days 21:26:00  \n",
              "12   1 days 23:28:00  \n",
              "13   0 days 01:25:00  \n",
              "14 -1 days +20:02:00  \n",
              "15  11 days 01:49:00  \n",
              "16  10 days 17:03:00  \n",
              "17  21 days 22:50:00  "
            ]
          },
          "metadata": {
            "tags": []
          },
          "execution_count": 41
        }
      ]
    },
    {
      "cell_type": "code",
      "metadata": {
        "id": "hvVUvvNAdre7",
        "colab_type": "code",
        "colab": {}
      },
      "source": [
        "shelter_df = shelter_df.dropna(subset=['Outcome Type'])"
      ],
      "execution_count": 0,
      "outputs": []
    },
    {
      "cell_type": "code",
      "metadata": {
        "id": "WOhktG-3dyl6",
        "colab_type": "code",
        "colab": {
          "base_uri": "https://localhost:8080/",
          "height": 774
        },
        "outputId": "9e257e32-ba34-4b00-c92a-92fcf5120588"
      },
      "source": [
        "shelter_df.head(10)"
      ],
      "execution_count": 43,
      "outputs": [
        {
          "output_type": "execute_result",
          "data": {
            "text/html": [
              "<div>\n",
              "<style scoped>\n",
              "    .dataframe tbody tr th:only-of-type {\n",
              "        vertical-align: middle;\n",
              "    }\n",
              "\n",
              "    .dataframe tbody tr th {\n",
              "        vertical-align: top;\n",
              "    }\n",
              "\n",
              "    .dataframe thead th {\n",
              "        text-align: right;\n",
              "    }\n",
              "</style>\n",
              "<table border=\"1\" class=\"dataframe\">\n",
              "  <thead>\n",
              "    <tr style=\"text-align: right;\">\n",
              "      <th></th>\n",
              "      <th>Name</th>\n",
              "      <th>DateTime</th>\n",
              "      <th>MonthYear</th>\n",
              "      <th>Date of Birth</th>\n",
              "      <th>Outcome Type</th>\n",
              "      <th>Outcome Subtype</th>\n",
              "      <th>Sex upon Outcome</th>\n",
              "      <th>Age upon Outcome</th>\n",
              "      <th>Breed</th>\n",
              "      <th>Color</th>\n",
              "      <th>Intake Type</th>\n",
              "      <th>Intake DateTime</th>\n",
              "      <th>Sex upon Intake</th>\n",
              "      <th>Age upon Intake</th>\n",
              "      <th>Age Upon Outcome DT</th>\n",
              "      <th>Duration Of Stay</th>\n",
              "    </tr>\n",
              "  </thead>\n",
              "  <tbody>\n",
              "    <tr>\n",
              "      <th>9</th>\n",
              "      <td>*Donatello</td>\n",
              "      <td>2014-10-18 18:52:00</td>\n",
              "      <td>10/18/2014 06:52:00 PM</td>\n",
              "      <td>2014-08-01</td>\n",
              "      <td>Adoption</td>\n",
              "      <td>NaN</td>\n",
              "      <td>Neutered Male</td>\n",
              "      <td>2 months</td>\n",
              "      <td>Domestic Shorthair Mix</td>\n",
              "      <td>Black</td>\n",
              "      <td>Stray</td>\n",
              "      <td>2014-10-08 16:39:00</td>\n",
              "      <td>Intact Male</td>\n",
              "      <td>2 months</td>\n",
              "      <td>78 days 18:52:00</td>\n",
              "      <td>10 days 02:13:00</td>\n",
              "    </tr>\n",
              "    <tr>\n",
              "      <th>10</th>\n",
              "      <td>*Zeus</td>\n",
              "      <td>2014-08-05 16:59:00</td>\n",
              "      <td>08/05/2014 04:59:00 PM</td>\n",
              "      <td>2014-06-03</td>\n",
              "      <td>Adoption</td>\n",
              "      <td>NaN</td>\n",
              "      <td>Neutered Male</td>\n",
              "      <td>2 months</td>\n",
              "      <td>Domestic Shorthair Mix</td>\n",
              "      <td>White/Orange Tabby</td>\n",
              "      <td>Stray</td>\n",
              "      <td>2014-06-10 17:53:00</td>\n",
              "      <td>Intact Male</td>\n",
              "      <td>1 week</td>\n",
              "      <td>63 days 16:59:00</td>\n",
              "      <td>55 days 23:06:00</td>\n",
              "    </tr>\n",
              "    <tr>\n",
              "      <th>19</th>\n",
              "      <td>*Liza</td>\n",
              "      <td>2016-09-10 18:59:00</td>\n",
              "      <td>09/10/2016 06:59:00 PM</td>\n",
              "      <td>2016-05-18</td>\n",
              "      <td>Adoption</td>\n",
              "      <td>NaN</td>\n",
              "      <td>Spayed Female</td>\n",
              "      <td>3 months</td>\n",
              "      <td>Domestic Shorthair Mix</td>\n",
              "      <td>Calico</td>\n",
              "      <td>Stray</td>\n",
              "      <td>2016-07-07 14:07:00</td>\n",
              "      <td>Intact Female</td>\n",
              "      <td>1 month</td>\n",
              "      <td>115 days 18:59:00</td>\n",
              "      <td>65 days 04:52:00</td>\n",
              "    </tr>\n",
              "    <tr>\n",
              "      <th>24</th>\n",
              "      <td>Kevin</td>\n",
              "      <td>2018-03-17 16:26:00</td>\n",
              "      <td>03/17/2018 04:26:00 PM</td>\n",
              "      <td>2017-04-25</td>\n",
              "      <td>Adoption</td>\n",
              "      <td>NaN</td>\n",
              "      <td>Neutered Male</td>\n",
              "      <td>10 months</td>\n",
              "      <td>Domestic Shorthair Mix</td>\n",
              "      <td>Brown Tabby</td>\n",
              "      <td>Stray</td>\n",
              "      <td>2018-01-25 08:04:00</td>\n",
              "      <td>Intact Male</td>\n",
              "      <td>9 months</td>\n",
              "      <td>326 days 16:26:00</td>\n",
              "      <td>51 days 08:22:00</td>\n",
              "    </tr>\n",
              "    <tr>\n",
              "      <th>67</th>\n",
              "      <td>*Dell</td>\n",
              "      <td>2015-06-20 16:25:00</td>\n",
              "      <td>06/20/2015 04:25:00 PM</td>\n",
              "      <td>2015-03-30</td>\n",
              "      <td>Adoption</td>\n",
              "      <td>Offsite</td>\n",
              "      <td>Neutered Male</td>\n",
              "      <td>2 months</td>\n",
              "      <td>Domestic Shorthair Mix</td>\n",
              "      <td>White/Blue Tabby</td>\n",
              "      <td>Stray</td>\n",
              "      <td>2015-06-14 16:26:00</td>\n",
              "      <td>Intact Male</td>\n",
              "      <td>2 months</td>\n",
              "      <td>82 days 16:25:00</td>\n",
              "      <td>5 days 23:59:00</td>\n",
              "    </tr>\n",
              "    <tr>\n",
              "      <th>97</th>\n",
              "      <td>*Hans</td>\n",
              "      <td>2015-02-09 18:46:00</td>\n",
              "      <td>02/09/2015 06:46:00 PM</td>\n",
              "      <td>2014-11-19</td>\n",
              "      <td>Adoption</td>\n",
              "      <td>NaN</td>\n",
              "      <td>Neutered Male</td>\n",
              "      <td>2 months</td>\n",
              "      <td>Domestic Shorthair Mix</td>\n",
              "      <td>Black</td>\n",
              "      <td>Stray</td>\n",
              "      <td>2015-02-04 13:23:00</td>\n",
              "      <td>Intact Male</td>\n",
              "      <td>2 months</td>\n",
              "      <td>82 days 18:46:00</td>\n",
              "      <td>5 days 05:23:00</td>\n",
              "    </tr>\n",
              "    <tr>\n",
              "      <th>130</th>\n",
              "      <td>*Lovey</td>\n",
              "      <td>2014-09-21 17:39:00</td>\n",
              "      <td>09/21/2014 05:39:00 PM</td>\n",
              "      <td>2014-07-15</td>\n",
              "      <td>Adoption</td>\n",
              "      <td>Foster</td>\n",
              "      <td>Spayed Female</td>\n",
              "      <td>2 months</td>\n",
              "      <td>Domestic Shorthair Mix</td>\n",
              "      <td>Tortie</td>\n",
              "      <td>Stray</td>\n",
              "      <td>2014-08-22 11:57:00</td>\n",
              "      <td>Intact Female</td>\n",
              "      <td>1 month</td>\n",
              "      <td>68 days 17:39:00</td>\n",
              "      <td>30 days 05:42:00</td>\n",
              "    </tr>\n",
              "    <tr>\n",
              "      <th>140</th>\n",
              "      <td>NaN</td>\n",
              "      <td>2014-01-20 18:32:00</td>\n",
              "      <td>01/20/2014 06:32:00 PM</td>\n",
              "      <td>2013-11-03</td>\n",
              "      <td>Adoption</td>\n",
              "      <td>NaN</td>\n",
              "      <td>Neutered Male</td>\n",
              "      <td>2 months</td>\n",
              "      <td>Domestic Shorthair Mix</td>\n",
              "      <td>Orange Tabby/White</td>\n",
              "      <td>Owner Surrender</td>\n",
              "      <td>2014-01-18 16:01:00</td>\n",
              "      <td>Intact Male</td>\n",
              "      <td>2 months</td>\n",
              "      <td>78 days 18:32:00</td>\n",
              "      <td>2 days 02:31:00</td>\n",
              "    </tr>\n",
              "    <tr>\n",
              "      <th>168</th>\n",
              "      <td>*Jerry</td>\n",
              "      <td>2013-10-29 18:47:00</td>\n",
              "      <td>10/29/2013 06:47:00 PM</td>\n",
              "      <td>2013-07-29</td>\n",
              "      <td>Adoption</td>\n",
              "      <td>NaN</td>\n",
              "      <td>Neutered Male</td>\n",
              "      <td>3 months</td>\n",
              "      <td>Domestic Shorthair Mix</td>\n",
              "      <td>Orange Tabby/White</td>\n",
              "      <td>Owner Surrender</td>\n",
              "      <td>2013-10-27 11:09:00</td>\n",
              "      <td>Intact Male</td>\n",
              "      <td>2 months</td>\n",
              "      <td>92 days 18:47:00</td>\n",
              "      <td>2 days 07:38:00</td>\n",
              "    </tr>\n",
              "    <tr>\n",
              "      <th>173</th>\n",
              "      <td>*Marigold</td>\n",
              "      <td>2016-01-12 11:52:00</td>\n",
              "      <td>01/12/2016 11:52:00 AM</td>\n",
              "      <td>2015-10-07</td>\n",
              "      <td>Adoption</td>\n",
              "      <td>NaN</td>\n",
              "      <td>Spayed Female</td>\n",
              "      <td>3 months</td>\n",
              "      <td>Domestic Shorthair Mix</td>\n",
              "      <td>Brown Tabby/White</td>\n",
              "      <td>Stray</td>\n",
              "      <td>2016-01-07 11:11:00</td>\n",
              "      <td>Intact Female</td>\n",
              "      <td>3 months</td>\n",
              "      <td>97 days 11:52:00</td>\n",
              "      <td>5 days 00:41:00</td>\n",
              "    </tr>\n",
              "  </tbody>\n",
              "</table>\n",
              "</div>"
            ],
            "text/plain": [
              "           Name            DateTime               MonthYear Date of Birth  \\\n",
              "9    *Donatello 2014-10-18 18:52:00  10/18/2014 06:52:00 PM    2014-08-01   \n",
              "10        *Zeus 2014-08-05 16:59:00  08/05/2014 04:59:00 PM    2014-06-03   \n",
              "19        *Liza 2016-09-10 18:59:00  09/10/2016 06:59:00 PM    2016-05-18   \n",
              "24        Kevin 2018-03-17 16:26:00  03/17/2018 04:26:00 PM    2017-04-25   \n",
              "67        *Dell 2015-06-20 16:25:00  06/20/2015 04:25:00 PM    2015-03-30   \n",
              "97        *Hans 2015-02-09 18:46:00  02/09/2015 06:46:00 PM    2014-11-19   \n",
              "130      *Lovey 2014-09-21 17:39:00  09/21/2014 05:39:00 PM    2014-07-15   \n",
              "140         NaN 2014-01-20 18:32:00  01/20/2014 06:32:00 PM    2013-11-03   \n",
              "168      *Jerry 2013-10-29 18:47:00  10/29/2013 06:47:00 PM    2013-07-29   \n",
              "173   *Marigold 2016-01-12 11:52:00  01/12/2016 11:52:00 AM    2015-10-07   \n",
              "\n",
              "    Outcome Type Outcome Subtype Sex upon Outcome Age upon Outcome  \\\n",
              "9       Adoption             NaN    Neutered Male         2 months   \n",
              "10      Adoption             NaN    Neutered Male         2 months   \n",
              "19      Adoption             NaN    Spayed Female         3 months   \n",
              "24      Adoption             NaN    Neutered Male        10 months   \n",
              "67      Adoption         Offsite    Neutered Male         2 months   \n",
              "97      Adoption             NaN    Neutered Male         2 months   \n",
              "130     Adoption          Foster    Spayed Female         2 months   \n",
              "140     Adoption             NaN    Neutered Male         2 months   \n",
              "168     Adoption             NaN    Neutered Male         3 months   \n",
              "173     Adoption             NaN    Spayed Female         3 months   \n",
              "\n",
              "                      Breed               Color      Intake Type  \\\n",
              "9    Domestic Shorthair Mix               Black            Stray   \n",
              "10   Domestic Shorthair Mix  White/Orange Tabby            Stray   \n",
              "19   Domestic Shorthair Mix              Calico            Stray   \n",
              "24   Domestic Shorthair Mix         Brown Tabby            Stray   \n",
              "67   Domestic Shorthair Mix    White/Blue Tabby            Stray   \n",
              "97   Domestic Shorthair Mix               Black            Stray   \n",
              "130  Domestic Shorthair Mix              Tortie            Stray   \n",
              "140  Domestic Shorthair Mix  Orange Tabby/White  Owner Surrender   \n",
              "168  Domestic Shorthair Mix  Orange Tabby/White  Owner Surrender   \n",
              "173  Domestic Shorthair Mix   Brown Tabby/White            Stray   \n",
              "\n",
              "        Intake DateTime Sex upon Intake Age upon Intake Age Upon Outcome DT  \\\n",
              "9   2014-10-08 16:39:00     Intact Male        2 months    78 days 18:52:00   \n",
              "10  2014-06-10 17:53:00     Intact Male          1 week    63 days 16:59:00   \n",
              "19  2016-07-07 14:07:00   Intact Female         1 month   115 days 18:59:00   \n",
              "24  2018-01-25 08:04:00     Intact Male        9 months   326 days 16:26:00   \n",
              "67  2015-06-14 16:26:00     Intact Male        2 months    82 days 16:25:00   \n",
              "97  2015-02-04 13:23:00     Intact Male        2 months    82 days 18:46:00   \n",
              "130 2014-08-22 11:57:00   Intact Female         1 month    68 days 17:39:00   \n",
              "140 2014-01-18 16:01:00     Intact Male        2 months    78 days 18:32:00   \n",
              "168 2013-10-27 11:09:00     Intact Male        2 months    92 days 18:47:00   \n",
              "173 2016-01-07 11:11:00   Intact Female        3 months    97 days 11:52:00   \n",
              "\n",
              "    Duration Of Stay  \n",
              "9   10 days 02:13:00  \n",
              "10  55 days 23:06:00  \n",
              "19  65 days 04:52:00  \n",
              "24  51 days 08:22:00  \n",
              "67   5 days 23:59:00  \n",
              "97   5 days 05:23:00  \n",
              "130 30 days 05:42:00  \n",
              "140  2 days 02:31:00  \n",
              "168  2 days 07:38:00  \n",
              "173  5 days 00:41:00  "
            ]
          },
          "metadata": {
            "tags": []
          },
          "execution_count": 43
        }
      ]
    },
    {
      "cell_type": "code",
      "metadata": {
        "id": "ZxDaVWu9szqg",
        "colab_type": "code",
        "colab": {
          "base_uri": "https://localhost:8080/",
          "height": 35
        },
        "outputId": "fca34445-8289-4f3e-85f2-c048353779e2"
      },
      "source": [
        "shelter_df.shape"
      ],
      "execution_count": 44,
      "outputs": [
        {
          "output_type": "execute_result",
          "data": {
            "text/plain": [
              "(21768, 16)"
            ]
          },
          "metadata": {
            "tags": []
          },
          "execution_count": 44
        }
      ]
    },
    {
      "cell_type": "code",
      "metadata": {
        "id": "A7-MIGRVe5G6",
        "colab_type": "code",
        "colab": {
          "base_uri": "https://localhost:8080/",
          "height": 279
        },
        "outputId": "14f125e5-7fe6-4d4e-d0c9-ea4ce1239869"
      },
      "source": [
        "plt.xticks(np.arange(0, 13, 1.0))\n",
        "plt.xlabel(['Jan', 'Feb', 'Mar', 'Apr', 'May', 'June', 'July', 'Aug', 'Sept', 'Oct', 'Nov', 'Dec'])\n",
        "\n",
        "shelter_df['DateTime'].dt.month.plot.density();\n",
        "plt.show()"
      ],
      "execution_count": 45,
      "outputs": [
        {
          "output_type": "display_data",
          "data": {
            "image/png": "[encoded data removed]",
            "text/plain": [
              "<Figure size 432x288 with 1 Axes>"
            ]
          },
          "metadata": {
            "tags": []
          }
        }
      ]
    },
    {
      "cell_type": "code",
      "metadata": {
        "id": "9sNPSE2cfO9V",
        "colab_type": "code",
        "colab": {
          "base_uri": "https://localhost:8080/",
          "height": 279
        },
        "outputId": "10165b61-8ad6-46e0-d7c7-edeea3a59802"
      },
      "source": [
        "plt.xticks(np.arange(0, 13, 1.0))\n",
        "plt.xlabel(['Jan', 'Feb', 'Mar', 'Apr', 'May', 'June', 'July', 'Aug', 'Sept', 'Oct', 'Nov', 'Dec'])\n",
        "\n",
        "shelter_df['Intake DateTime'].dt.month.plot.density();\n",
        "plt.show()"
      ],
      "execution_count": 46,
      "outputs": [
        {
          "output_type": "display_data",
          "data": {
            "image/png": "[encoded data removed]",
            "text/plain": [
              "<Figure size 432x288 with 1 Axes>"
            ]
          },
          "metadata": {
            "tags": []
          }
        }
      ]
    },
    {
      "cell_type": "markdown",
      "metadata": {
        "id": "GrdkD9qA2szp",
        "colab_type": "text"
      },
      "source": [
        "I want to standardize my data by age range but unfortunately that's something that's outside of the scope of this build week and is covered in the next unit - so I'm binning my values instead (:"
      ]
    },
    {
      "cell_type": "code",
      "metadata": {
        "id": "zSmAuQrVfP6B",
        "colab_type": "code",
        "colab": {
          "base_uri": "https://localhost:8080/",
          "height": 265
        },
        "outputId": "f9a6e073-702e-494a-ccda-d07eb5ccb0c2"
      },
      "source": [
        "plt.xticks(np.arange(0, 5, 90.0))\n",
        "#plt.xlabel(['Jan', 'Feb', 'Mar', 'Apr', 'May', 'June', 'July', 'Aug', 'Sept', 'Oct', 'Nov', 'Dec'])\n",
        "shelter_df['Age Upon Outcome DT'].dt.days.plot.density();\n",
        "#shelter_df['Intake DateTime'].dt.month.plot.density();\n",
        "plt.show()"
      ],
      "execution_count": 47,
      "outputs": [
        {
          "output_type": "display_data",
          "data": {
            "image/png": "[encoded data removed]",
            "text/plain": [
              "<Figure size 432x288 with 1 Axes>"
            ]
          },
          "metadata": {
            "tags": []
          }
        }
      ]
    },
    {
      "cell_type": "code",
      "metadata": {
        "id": "4gY1AHJEfhbi",
        "colab_type": "code",
        "colab": {
          "base_uri": "https://localhost:8080/",
          "height": 265
        },
        "outputId": "a84dd1b6-f1fb-4d88-e868-a72ee68470d4"
      },
      "source": [
        "plt.xticks(np.arange(0, 20, 20.0))\n",
        "#plt.xlabel(['Jan', 'Feb', 'Mar', 'Apr', 'May', 'June', 'July', 'Aug', 'Sept', 'Oct', 'Nov', 'Dec'])\n",
        "shelter_df['Duration Of Stay'].dt.days.hist(bins = 6)\n",
        "#shelter_df['Intake DateTime'].dt.month.plot.density();\n",
        "plt.show()"
      ],
      "execution_count": 48,
      "outputs": [
        {
          "output_type": "display_data",
          "data": {
            "image/png": "[encoded data removed]",
            "text/plain": [
              "<Figure size 432x288 with 1 Axes>"
            ]
          },
          "metadata": {
            "tags": []
          }
        }
      ]
    },
    {
      "cell_type": "code",
      "metadata": {
        "id": "3G6ZYL3HgX6b",
        "colab_type": "code",
        "colab": {
          "base_uri": "https://localhost:8080/",
          "height": 265
        },
        "outputId": "c8fc1cbf-5c47-4b31-d166-cf942a24257d"
      },
      "source": [
        "shelter_df['Duration Of Stay'].dt.days.hist(bins = 12);"
      ],
      "execution_count": 49,
      "outputs": [
        {
          "output_type": "display_data",
          "data": {
            "image/png": "[encoded data removed]",
            "text/plain": [
              "<Figure size 432x288 with 1 Axes>"
            ]
          },
          "metadata": {
            "tags": []
          }
        }
      ]
    },
    {
      "cell_type": "code",
      "metadata": {
        "id": "wZwi5QhxgoEo",
        "colab_type": "code",
        "colab": {
          "base_uri": "https://localhost:8080/",
          "height": 265
        },
        "outputId": "3f150ca7-3073-4c62-b92f-149dce6c2d38"
      },
      "source": [
        "pd.to_datetime(shelter_df['DateTime']).dt.day.plot.density();"
      ],
      "execution_count": 50,
      "outputs": [
        {
          "output_type": "display_data",
          "data": {
            "image/png": "[encoded data removed]",
            "text/plain": [
              "<Figure size 432x288 with 1 Axes>"
            ]
          },
          "metadata": {
            "tags": []
          }
        }
      ]
    },
    {
      "cell_type": "code",
      "metadata": {
        "id": "UFu8wIdBg75N",
        "colab_type": "code",
        "colab": {
          "base_uri": "https://localhost:8080/",
          "height": 294
        },
        "outputId": "5a585c71-a6f9-410c-f90c-9451307c136f"
      },
      "source": [
        "pd.to_datetime(shelter_df['DateTime']).dt.year.plot.density();\n",
        "#pd.to_datetime(shelter_df['DateTime']).dt.year.plot.bar(); # Whoops, year is the height"
      ],
      "execution_count": 51,
      "outputs": [
        {
          "output_type": "display_data",
          "data": {
            "image/png": "[encoded data removed]",
            "text/plain": [
              "<Figure size 432x288 with 1 Axes>"
            ]
          },
          "metadata": {
            "tags": []
          }
        }
      ]
    },
    {
      "cell_type": "code",
      "metadata": {
        "id": "szpa-bVuNXKS",
        "colab_type": "code",
        "colab": {}
      },
      "source": [
        "#shelter_df['age_group'].value_counts()"
      ],
      "execution_count": 0,
      "outputs": []
    },
    {
      "cell_type": "markdown",
      "metadata": {
        "id": "oBh7SEoe3T0A",
        "colab_type": "text"
      },
      "source": [
        "I don't think that's good enough - I think there are too many bins for the older cats given their very low population counts"
      ]
    },
    {
      "cell_type": "code",
      "metadata": {
        "id": "qRaG4l393jbE",
        "colab_type": "code",
        "colab": {
          "base_uri": "https://localhost:8080/",
          "height": 661
        },
        "outputId": "636016e3-7413-4559-b298-2c835b944c80"
      },
      "source": [
        "#Teen removed due to lack of age range \n",
        "#shelter_df['binned_outcome_age_(years)'] = pd.cut(x = shelter_df['outcome_age_(years)'], bins = [0, 0.5, 1.0, 1.5, 2.0, 4.0, 8.0, 22.0], labels = ['baby', 'kitten', 'teen', 'adult', 'Older Adult', 'Midlife', 'Twilight'])\n",
        "shelter_df['binned_outcome_age_(years)'] = pd.cut(x = pd.to_datetime(shelter_df['Age upon Outcome']).dt.years, bins = [0, 0.5, 1.0, 2.0, 4.0, 8.0, 22.0], labels = ['baby', 'kitten', 'adult', 'Older Adult', 'Midlife', 'Twilight'])"
      ],
      "execution_count": 53,
      "outputs": [
        {
          "output_type": "error",
          "ename": "ValueError",
          "evalue": "ignored",
          "traceback": [
            "\u001b[0;31m---------------------------------------------------------------------------\u001b[0m",
            "\u001b[0;31mTypeError\u001b[0m                                 Traceback (most recent call last)",
            "\u001b[0;32m/usr/local/lib/python3.6/dist-packages/pandas/core/arrays/datetimes.py\u001b[0m in \u001b[0;36mobjects_to_datetime64ns\u001b[0;34m(data, dayfirst, yearfirst, utc, errors, require_iso8601, allow_object)\u001b[0m\n\u001b[1;32m   1978\u001b[0m         \u001b[0;32mtry\u001b[0m\u001b[0;34m:\u001b[0m\u001b[0;34m\u001b[0m\u001b[0;34m\u001b[0m\u001b[0m\n\u001b[0;32m-> 1979\u001b[0;31m             \u001b[0mvalues\u001b[0m\u001b[0;34m,\u001b[0m \u001b[0mtz_parsed\u001b[0m \u001b[0;34m=\u001b[0m \u001b[0mconversion\u001b[0m\u001b[0;34m.\u001b[0m\u001b[0mdatetime_to_datetime64\u001b[0m\u001b[0;34m(\u001b[0m\u001b[0mdata\u001b[0m\u001b[0;34m)\u001b[0m\u001b[0;34m\u001b[0m\u001b[0;34m\u001b[0m\u001b[0m\n\u001b[0m\u001b[1;32m   1980\u001b[0m             \u001b[0;31m# If tzaware, these values represent unix timestamps, so we\u001b[0m\u001b[0;34m\u001b[0m\u001b[0;34m\u001b[0m\u001b[0;34m\u001b[0m\u001b[0m\n",
            "\u001b[0;32mpandas/_libs/tslibs/conversion.pyx\u001b[0m in \u001b[0;36mpandas._libs.tslibs.conversion.datetime_to_datetime64\u001b[0;34m()\u001b[0m\n",
            "\u001b[0;31mTypeError\u001b[0m: Unrecognized value type: <class 'str'>",
            "\nDuring handling of the above exception, another exception occurred:\n",
            "\u001b[0;31mValueError\u001b[0m                                Traceback (most recent call last)",
            "\u001b[0;32m<ipython-input-53-46bc643e9fa3>\u001b[0m in \u001b[0;36m<module>\u001b[0;34m()\u001b[0m\n\u001b[0;32m----> 1\u001b[0;31m \u001b[0mshelter_df\u001b[0m\u001b[0;34m[\u001b[0m\u001b[0;34m'binned_outcome_age_(years)'\u001b[0m\u001b[0;34m]\u001b[0m \u001b[0;34m=\u001b[0m \u001b[0mpd\u001b[0m\u001b[0;34m.\u001b[0m\u001b[0mcut\u001b[0m\u001b[0;34m(\u001b[0m\u001b[0mx\u001b[0m \u001b[0;34m=\u001b[0m \u001b[0mpd\u001b[0m\u001b[0;34m.\u001b[0m\u001b[0mto_datetime\u001b[0m\u001b[0;34m(\u001b[0m\u001b[0mshelter_df\u001b[0m\u001b[0;34m[\u001b[0m\u001b[0;34m'Age upon Outcome'\u001b[0m\u001b[0;34m]\u001b[0m\u001b[0;34m)\u001b[0m\u001b[0;34m.\u001b[0m\u001b[0mdt\u001b[0m\u001b[0;34m.\u001b[0m\u001b[0myears\u001b[0m\u001b[0;34m,\u001b[0m \u001b[0mbins\u001b[0m \u001b[0;34m=\u001b[0m \u001b[0;34m[\u001b[0m\u001b[0;36m0\u001b[0m\u001b[0;34m,\u001b[0m \u001b[0;36m0.5\u001b[0m\u001b[0;34m,\u001b[0m \u001b[0;36m1.0\u001b[0m\u001b[0;34m,\u001b[0m \u001b[0;36m2.0\u001b[0m\u001b[0;34m,\u001b[0m \u001b[0;36m4.0\u001b[0m\u001b[0;34m,\u001b[0m \u001b[0;36m8.0\u001b[0m\u001b[0;34m,\u001b[0m \u001b[0;36m22.0\u001b[0m\u001b[0;34m]\u001b[0m\u001b[0;34m,\u001b[0m \u001b[0mlabels\u001b[0m \u001b[0;34m=\u001b[0m \u001b[0;34m[\u001b[0m\u001b[0;34m'baby'\u001b[0m\u001b[0;34m,\u001b[0m \u001b[0;34m'kitten'\u001b[0m\u001b[0;34m,\u001b[0m \u001b[0;34m'adult'\u001b[0m\u001b[0;34m,\u001b[0m \u001b[0;34m'Older Adult'\u001b[0m\u001b[0;34m,\u001b[0m \u001b[0;34m'Midlife'\u001b[0m\u001b[0;34m,\u001b[0m \u001b[0;34m'Twilight'\u001b[0m\u001b[0;34m]\u001b[0m\u001b[0;34m)\u001b[0m\u001b[0;34m\u001b[0m\u001b[0;34m\u001b[0m\u001b[0m\n\u001b[0m",
            "\u001b[0;32m/usr/local/lib/python3.6/dist-packages/pandas/util/_decorators.py\u001b[0m in \u001b[0;36mwrapper\u001b[0;34m(*args, **kwargs)\u001b[0m\n\u001b[1;32m    206\u001b[0m                 \u001b[0;32melse\u001b[0m\u001b[0;34m:\u001b[0m\u001b[0;34m\u001b[0m\u001b[0;34m\u001b[0m\u001b[0m\n\u001b[1;32m    207\u001b[0m                     \u001b[0mkwargs\u001b[0m\u001b[0;34m[\u001b[0m\u001b[0mnew_arg_name\u001b[0m\u001b[0;34m]\u001b[0m \u001b[0;34m=\u001b[0m \u001b[0mnew_arg_value\u001b[0m\u001b[0;34m\u001b[0m\u001b[0;34m\u001b[0m\u001b[0m\n\u001b[0;32m--> 208\u001b[0;31m             \u001b[0;32mreturn\u001b[0m \u001b[0mfunc\u001b[0m\u001b[0;34m(\u001b[0m\u001b[0;34m*\u001b[0m\u001b[0margs\u001b[0m\u001b[0;34m,\u001b[0m \u001b[0;34m**\u001b[0m\u001b[0mkwargs\u001b[0m\u001b[0;34m)\u001b[0m\u001b[0;34m\u001b[0m\u001b[0;34m\u001b[0m\u001b[0m\n\u001b[0m\u001b[1;32m    209\u001b[0m \u001b[0;34m\u001b[0m\u001b[0m\n\u001b[1;32m    210\u001b[0m         \u001b[0;32mreturn\u001b[0m \u001b[0mwrapper\u001b[0m\u001b[0;34m\u001b[0m\u001b[0;34m\u001b[0m\u001b[0m\n",
            "\u001b[0;32m/usr/local/lib/python3.6/dist-packages/pandas/core/tools/datetimes.py\u001b[0m in \u001b[0;36mto_datetime\u001b[0;34m(arg, errors, dayfirst, yearfirst, utc, box, format, exact, unit, infer_datetime_format, origin, cache)\u001b[0m\n\u001b[1;32m    772\u001b[0m                 \u001b[0mresult\u001b[0m \u001b[0;34m=\u001b[0m \u001b[0mresult\u001b[0m\u001b[0;34m.\u001b[0m\u001b[0mtz_localize\u001b[0m\u001b[0;34m(\u001b[0m\u001b[0mtz\u001b[0m\u001b[0;34m)\u001b[0m\u001b[0;34m\u001b[0m\u001b[0;34m\u001b[0m\u001b[0m\n\u001b[1;32m    773\u001b[0m     \u001b[0;32melif\u001b[0m \u001b[0misinstance\u001b[0m\u001b[0;34m(\u001b[0m\u001b[0marg\u001b[0m\u001b[0;34m,\u001b[0m \u001b[0mABCSeries\u001b[0m\u001b[0;34m)\u001b[0m\u001b[0;34m:\u001b[0m\u001b[0;34m\u001b[0m\u001b[0;34m\u001b[0m\u001b[0m\n\u001b[0;32m--> 774\u001b[0;31m         \u001b[0mcache_array\u001b[0m \u001b[0;34m=\u001b[0m \u001b[0m_maybe_cache\u001b[0m\u001b[0;34m(\u001b[0m\u001b[0marg\u001b[0m\u001b[0;34m,\u001b[0m \u001b[0mformat\u001b[0m\u001b[0;34m,\u001b[0m \u001b[0mcache\u001b[0m\u001b[0;34m,\u001b[0m \u001b[0mconvert_listlike\u001b[0m\u001b[0;34m)\u001b[0m\u001b[0;34m\u001b[0m\u001b[0;34m\u001b[0m\u001b[0m\n\u001b[0m\u001b[1;32m    775\u001b[0m         \u001b[0;32mif\u001b[0m \u001b[0;32mnot\u001b[0m \u001b[0mcache_array\u001b[0m\u001b[0;34m.\u001b[0m\u001b[0mempty\u001b[0m\u001b[0;34m:\u001b[0m\u001b[0;34m\u001b[0m\u001b[0;34m\u001b[0m\u001b[0m\n\u001b[1;32m    776\u001b[0m             \u001b[0mresult\u001b[0m \u001b[0;34m=\u001b[0m \u001b[0marg\u001b[0m\u001b[0;34m.\u001b[0m\u001b[0mmap\u001b[0m\u001b[0;34m(\u001b[0m\u001b[0mcache_array\u001b[0m\u001b[0;34m)\u001b[0m\u001b[0;34m\u001b[0m\u001b[0;34m\u001b[0m\u001b[0m\n",
            "\u001b[0;32m/usr/local/lib/python3.6/dist-packages/pandas/core/tools/datetimes.py\u001b[0m in \u001b[0;36m_maybe_cache\u001b[0;34m(arg, format, cache, convert_listlike)\u001b[0m\n\u001b[1;32m    154\u001b[0m         \u001b[0munique_dates\u001b[0m \u001b[0;34m=\u001b[0m \u001b[0munique\u001b[0m\u001b[0;34m(\u001b[0m\u001b[0marg\u001b[0m\u001b[0;34m)\u001b[0m\u001b[0;34m\u001b[0m\u001b[0;34m\u001b[0m\u001b[0m\n\u001b[1;32m    155\u001b[0m         \u001b[0;32mif\u001b[0m \u001b[0mlen\u001b[0m\u001b[0;34m(\u001b[0m\u001b[0munique_dates\u001b[0m\u001b[0;34m)\u001b[0m \u001b[0;34m<\u001b[0m \u001b[0mlen\u001b[0m\u001b[0;34m(\u001b[0m\u001b[0marg\u001b[0m\u001b[0;34m)\u001b[0m\u001b[0;34m:\u001b[0m\u001b[0;34m\u001b[0m\u001b[0;34m\u001b[0m\u001b[0m\n\u001b[0;32m--> 156\u001b[0;31m             \u001b[0mcache_dates\u001b[0m \u001b[0;34m=\u001b[0m \u001b[0mconvert_listlike\u001b[0m\u001b[0;34m(\u001b[0m\u001b[0munique_dates\u001b[0m\u001b[0;34m,\u001b[0m \u001b[0;32mTrue\u001b[0m\u001b[0;34m,\u001b[0m \u001b[0mformat\u001b[0m\u001b[0;34m)\u001b[0m\u001b[0;34m\u001b[0m\u001b[0;34m\u001b[0m\u001b[0m\n\u001b[0m\u001b[1;32m    157\u001b[0m             \u001b[0mcache_array\u001b[0m \u001b[0;34m=\u001b[0m \u001b[0mSeries\u001b[0m\u001b[0;34m(\u001b[0m\u001b[0mcache_dates\u001b[0m\u001b[0;34m,\u001b[0m \u001b[0mindex\u001b[0m\u001b[0;34m=\u001b[0m\u001b[0munique_dates\u001b[0m\u001b[0;34m)\u001b[0m\u001b[0;34m\u001b[0m\u001b[0;34m\u001b[0m\u001b[0m\n\u001b[1;32m    158\u001b[0m     \u001b[0;32mreturn\u001b[0m \u001b[0mcache_array\u001b[0m\u001b[0;34m\u001b[0m\u001b[0;34m\u001b[0m\u001b[0m\n",
            "\u001b[0;32m/usr/local/lib/python3.6/dist-packages/pandas/core/tools/datetimes.py\u001b[0m in \u001b[0;36m_convert_listlike_datetimes\u001b[0;34m(arg, box, format, name, tz, unit, errors, infer_datetime_format, dayfirst, yearfirst, exact)\u001b[0m\n\u001b[1;32m    461\u001b[0m             \u001b[0merrors\u001b[0m\u001b[0;34m=\u001b[0m\u001b[0merrors\u001b[0m\u001b[0;34m,\u001b[0m\u001b[0;34m\u001b[0m\u001b[0;34m\u001b[0m\u001b[0m\n\u001b[1;32m    462\u001b[0m             \u001b[0mrequire_iso8601\u001b[0m\u001b[0;34m=\u001b[0m\u001b[0mrequire_iso8601\u001b[0m\u001b[0;34m,\u001b[0m\u001b[0;34m\u001b[0m\u001b[0;34m\u001b[0m\u001b[0m\n\u001b[0;32m--> 463\u001b[0;31m             \u001b[0mallow_object\u001b[0m\u001b[0;34m=\u001b[0m\u001b[0;32mTrue\u001b[0m\u001b[0;34m,\u001b[0m\u001b[0;34m\u001b[0m\u001b[0;34m\u001b[0m\u001b[0m\n\u001b[0m\u001b[1;32m    464\u001b[0m         )\n\u001b[1;32m    465\u001b[0m \u001b[0;34m\u001b[0m\u001b[0m\n",
            "\u001b[0;32m/usr/local/lib/python3.6/dist-packages/pandas/core/arrays/datetimes.py\u001b[0m in \u001b[0;36mobjects_to_datetime64ns\u001b[0;34m(data, dayfirst, yearfirst, utc, errors, require_iso8601, allow_object)\u001b[0m\n\u001b[1;32m   1982\u001b[0m             \u001b[0;32mreturn\u001b[0m \u001b[0mvalues\u001b[0m\u001b[0;34m.\u001b[0m\u001b[0mview\u001b[0m\u001b[0;34m(\u001b[0m\u001b[0;34m\"i8\"\u001b[0m\u001b[0;34m)\u001b[0m\u001b[0;34m,\u001b[0m \u001b[0mtz_parsed\u001b[0m\u001b[0;34m\u001b[0m\u001b[0;34m\u001b[0m\u001b[0m\n\u001b[1;32m   1983\u001b[0m         \u001b[0;32mexcept\u001b[0m \u001b[0;34m(\u001b[0m\u001b[0mValueError\u001b[0m\u001b[0;34m,\u001b[0m \u001b[0mTypeError\u001b[0m\u001b[0;34m)\u001b[0m\u001b[0;34m:\u001b[0m\u001b[0;34m\u001b[0m\u001b[0;34m\u001b[0m\u001b[0m\n\u001b[0;32m-> 1984\u001b[0;31m             \u001b[0;32mraise\u001b[0m \u001b[0me\u001b[0m\u001b[0;34m\u001b[0m\u001b[0;34m\u001b[0m\u001b[0m\n\u001b[0m\u001b[1;32m   1985\u001b[0m \u001b[0;34m\u001b[0m\u001b[0m\n\u001b[1;32m   1986\u001b[0m     \u001b[0;32mif\u001b[0m \u001b[0mtz_parsed\u001b[0m \u001b[0;32mis\u001b[0m \u001b[0;32mnot\u001b[0m \u001b[0;32mNone\u001b[0m\u001b[0;34m:\u001b[0m\u001b[0;34m\u001b[0m\u001b[0;34m\u001b[0m\u001b[0m\n",
            "\u001b[0;32m/usr/local/lib/python3.6/dist-packages/pandas/core/arrays/datetimes.py\u001b[0m in \u001b[0;36mobjects_to_datetime64ns\u001b[0;34m(data, dayfirst, yearfirst, utc, errors, require_iso8601, allow_object)\u001b[0m\n\u001b[1;32m   1973\u001b[0m             \u001b[0mdayfirst\u001b[0m\u001b[0;34m=\u001b[0m\u001b[0mdayfirst\u001b[0m\u001b[0;34m,\u001b[0m\u001b[0;34m\u001b[0m\u001b[0;34m\u001b[0m\u001b[0m\n\u001b[1;32m   1974\u001b[0m             \u001b[0myearfirst\u001b[0m\u001b[0;34m=\u001b[0m\u001b[0myearfirst\u001b[0m\u001b[0;34m,\u001b[0m\u001b[0;34m\u001b[0m\u001b[0;34m\u001b[0m\u001b[0m\n\u001b[0;32m-> 1975\u001b[0;31m             \u001b[0mrequire_iso8601\u001b[0m\u001b[0;34m=\u001b[0m\u001b[0mrequire_iso8601\u001b[0m\u001b[0;34m,\u001b[0m\u001b[0;34m\u001b[0m\u001b[0;34m\u001b[0m\u001b[0m\n\u001b[0m\u001b[1;32m   1976\u001b[0m         )\n\u001b[1;32m   1977\u001b[0m     \u001b[0;32mexcept\u001b[0m \u001b[0mValueError\u001b[0m \u001b[0;32mas\u001b[0m \u001b[0me\u001b[0m\u001b[0;34m:\u001b[0m\u001b[0;34m\u001b[0m\u001b[0;34m\u001b[0m\u001b[0m\n",
            "\u001b[0;32mpandas/_libs/tslib.pyx\u001b[0m in \u001b[0;36mpandas._libs.tslib.array_to_datetime\u001b[0;34m()\u001b[0m\n",
            "\u001b[0;32mpandas/_libs/tslib.pyx\u001b[0m in \u001b[0;36mpandas._libs.tslib.array_to_datetime\u001b[0;34m()\u001b[0m\n",
            "\u001b[0;32mpandas/_libs/tslib.pyx\u001b[0m in \u001b[0;36mpandas._libs.tslib.array_to_datetime_object\u001b[0;34m()\u001b[0m\n",
            "\u001b[0;32mpandas/_libs/tslib.pyx\u001b[0m in \u001b[0;36mpandas._libs.tslib.array_to_datetime_object\u001b[0;34m()\u001b[0m\n",
            "\u001b[0;32mpandas/_libs/tslibs/parsing.pyx\u001b[0m in \u001b[0;36mpandas._libs.tslibs.parsing.parse_datetime_string\u001b[0;34m()\u001b[0m\n",
            "\u001b[0;32m/usr/local/lib/python3.6/dist-packages/dateutil/parser.py\u001b[0m in \u001b[0;36mparse\u001b[0;34m(timestr, parserinfo, **kwargs)\u001b[0m\n\u001b[1;32m   1180\u001b[0m         \u001b[0;32mreturn\u001b[0m \u001b[0mparser\u001b[0m\u001b[0;34m(\u001b[0m\u001b[0mparserinfo\u001b[0m\u001b[0;34m)\u001b[0m\u001b[0;34m.\u001b[0m\u001b[0mparse\u001b[0m\u001b[0;34m(\u001b[0m\u001b[0mtimestr\u001b[0m\u001b[0;34m,\u001b[0m \u001b[0;34m**\u001b[0m\u001b[0mkwargs\u001b[0m\u001b[0;34m)\u001b[0m\u001b[0;34m\u001b[0m\u001b[0;34m\u001b[0m\u001b[0m\n\u001b[1;32m   1181\u001b[0m     \u001b[0;32melse\u001b[0m\u001b[0;34m:\u001b[0m\u001b[0;34m\u001b[0m\u001b[0;34m\u001b[0m\u001b[0m\n\u001b[0;32m-> 1182\u001b[0;31m         \u001b[0;32mreturn\u001b[0m \u001b[0mDEFAULTPARSER\u001b[0m\u001b[0;34m.\u001b[0m\u001b[0mparse\u001b[0m\u001b[0;34m(\u001b[0m\u001b[0mtimestr\u001b[0m\u001b[0;34m,\u001b[0m \u001b[0;34m**\u001b[0m\u001b[0mkwargs\u001b[0m\u001b[0;34m)\u001b[0m\u001b[0;34m\u001b[0m\u001b[0;34m\u001b[0m\u001b[0m\n\u001b[0m\u001b[1;32m   1183\u001b[0m \u001b[0;34m\u001b[0m\u001b[0m\n\u001b[1;32m   1184\u001b[0m \u001b[0;34m\u001b[0m\u001b[0m\n",
            "\u001b[0;32m/usr/local/lib/python3.6/dist-packages/dateutil/parser.py\u001b[0m in \u001b[0;36mparse\u001b[0;34m(self, timestr, default, ignoretz, tzinfos, **kwargs)\u001b[0m\n\u001b[1;32m    557\u001b[0m \u001b[0;34m\u001b[0m\u001b[0m\n\u001b[1;32m    558\u001b[0m         \u001b[0;32mif\u001b[0m \u001b[0mres\u001b[0m \u001b[0;32mis\u001b[0m \u001b[0;32mNone\u001b[0m\u001b[0;34m:\u001b[0m\u001b[0;34m\u001b[0m\u001b[0;34m\u001b[0m\u001b[0m\n\u001b[0;32m--> 559\u001b[0;31m             \u001b[0;32mraise\u001b[0m \u001b[0mValueError\u001b[0m\u001b[0;34m(\u001b[0m\u001b[0;34m\"Unknown string format\"\u001b[0m\u001b[0;34m)\u001b[0m\u001b[0;34m\u001b[0m\u001b[0;34m\u001b[0m\u001b[0m\n\u001b[0m\u001b[1;32m    560\u001b[0m \u001b[0;34m\u001b[0m\u001b[0m\n\u001b[1;32m    561\u001b[0m         \u001b[0;32mif\u001b[0m \u001b[0mlen\u001b[0m\u001b[0;34m(\u001b[0m\u001b[0mres\u001b[0m\u001b[0;34m)\u001b[0m \u001b[0;34m==\u001b[0m \u001b[0;36m0\u001b[0m\u001b[0;34m:\u001b[0m\u001b[0;34m\u001b[0m\u001b[0;34m\u001b[0m\u001b[0m\n",
            "\u001b[0;31mValueError\u001b[0m: Unknown string format"
          ]
        }
      ]
    },
    {
      "cell_type": "markdown",
      "metadata": {
        "id": "gODBB2Dx4Ob7",
        "colab_type": "text"
      },
      "source": [
        "I've chosen these years because I believe that 0 - 0.5 is seen as a cat in need of fostering, 0.5 - 1.0 is seen as a perfect cat capable of adapting to a new home and is \"truly yours\" because it's likely never had another home / is very young, 1.0 - 1.5 is barely outside of that range, 1.5 - 2.0 is an adult cat, 2.0 - 4.0 is likely seen as a cat set in their ways and sad because they're losing their previous lifestyle or home, 4.0 - 8.0 is their last hurrah, and 8 - 22 is seen as an old, on their way to the grave cat.\n",
        "\n",
        "Are these true facts? Don't know - I don't speak for everyone - but I think it's a fair opening opinion. Ideally I'd like to look at the data and see what the data says before inserting my own opinion but this is necessary right now (:"
      ]
    },
    {
      "cell_type": "code",
      "metadata": {
        "id": "_gR4gbGC6TKN",
        "colab_type": "code",
        "colab": {}
      },
      "source": [
        "shelter_df['binned_outcome_age_(years)'].head(10)"
      ],
      "execution_count": 0,
      "outputs": []
    },
    {
      "cell_type": "code",
      "metadata": {
        "id": "jtYcJ3SlBAUx",
        "colab_type": "code",
        "colab": {}
      },
      "source": [
        "shelter_df['binned_outcome_age_(years)'].value_counts()"
      ],
      "execution_count": 0,
      "outputs": []
    },
    {
      "cell_type": "code",
      "metadata": {
        "id": "gSmQ-8lQBu8d",
        "colab_type": "code",
        "colab": {}
      },
      "source": [
        "shelter_df['binned_outcome_age_(years)'].hist(bins = 6)"
      ],
      "execution_count": 0,
      "outputs": []
    },
    {
      "cell_type": "code",
      "metadata": {
        "id": "bBg5czBKFR83",
        "colab_type": "code",
        "colab": {}
      },
      "source": [
        "shelter_df.head(100)"
      ],
      "execution_count": 0,
      "outputs": []
    },
    {
      "cell_type": "markdown",
      "metadata": {
        "id": "4sX9pwPNF-8Y",
        "colab_type": "text"
      },
      "source": [
        "So apparently the Teen age range doesn't exist. Oh well. Dropped it and re-ran the notebook.\n",
        "\n",
        "- What day of the week is most popular outgoing?\n",
        "\n",
        "- Incoming?\n",
        "\n",
        "- What month of the year is the most popular?\n",
        "\n",
        "- Least?\n",
        "\n",
        "\n"
      ]
    },
    {
      "cell_type": "code",
      "metadata": {
        "id": "7XcwBeRHWgcG",
        "colab_type": "code",
        "colab": {}
      },
      "source": [
        "shelter_df['datetime'].dtypes"
      ],
      "execution_count": 0,
      "outputs": []
    },
    {
      "cell_type": "code",
      "metadata": {
        "id": "RTCWU_AXImn7",
        "colab_type": "code",
        "colab": {}
      },
      "source": [
        "shelter_df['datetime'] = shelter_df['datetime'].replace({'?':np.NaN})"
      ],
      "execution_count": 0,
      "outputs": []
    },
    {
      "cell_type": "code",
      "metadata": {
        "id": "ZmwJdboNJVRe",
        "colab_type": "code",
        "colab": {}
      },
      "source": [
        "shelter_df['datetime'].isna().sum()"
      ],
      "execution_count": 0,
      "outputs": []
    },
    {
      "cell_type": "code",
      "metadata": {
        "id": "4TGJdxFSJf0e",
        "colab_type": "code",
        "colab": {}
      },
      "source": [
        "shelter_df['datetime'].isnull().sum()"
      ],
      "execution_count": 0,
      "outputs": []
    },
    {
      "cell_type": "code",
      "metadata": {
        "id": "vOWQeqqzIzBF",
        "colab_type": "code",
        "colab": {}
      },
      "source": [
        "#shelter_df['datetime'] = shelter_df['datetime'][~np.isnan(shelter_df['datetime'])]"
      ],
      "execution_count": 0,
      "outputs": []
    },
    {
      "cell_type": "code",
      "metadata": {
        "id": "O6DWAbVHWqBT",
        "colab_type": "code",
        "colab": {}
      },
      "source": [
        "#shelter_df['datetime'].plot.density();"
      ],
      "execution_count": 0,
      "outputs": []
    },
    {
      "cell_type": "code",
      "metadata": {
        "id": "9VPshythWyQA",
        "colab_type": "code",
        "colab": {}
      },
      "source": [
        "#shelter_df['datetime'].dt.year.plot.density();"
      ],
      "execution_count": 0,
      "outputs": []
    },
    {
      "cell_type": "code",
      "metadata": {
        "id": "H6LE0oNVGytH",
        "colab_type": "code",
        "colab": {}
      },
      "source": [
        "#pd.to_datetime(shelter_df['datetime']).plot.density();"
      ],
      "execution_count": 0,
      "outputs": []
    },
    {
      "cell_type": "code",
      "metadata": {
        "id": "qUpwUghqW3Eo",
        "colab_type": "code",
        "colab": {}
      },
      "source": [
        "plt.xticks(np.arange(0, 13, 1.0))\n",
        "plt.xlabel(['Jan', 'Feb', 'Mar', 'Apr', 'May', 'June', 'July', 'Aug', 'Sept', 'Oct', 'Nov', 'Dec'])\n",
        "pd.to_datetime(shelter_df['datetime']).dt.month.plot.density();\n",
        "plt.show()"
      ],
      "execution_count": 0,
      "outputs": []
    },
    {
      "cell_type": "markdown",
      "metadata": {
        "id": "TZY3Okr90Qcc",
        "colab_type": "text"
      },
      "source": [
        "There's a very obvious spike from April through July that carries through to January before dipping back down. July is the highest spike and therefor is the most popular month for incoming cats. February-March appears to be the least popular."
      ]
    },
    {
      "cell_type": "code",
      "metadata": {
        "id": "o8MjiLryz35p",
        "colab_type": "code",
        "colab": {}
      },
      "source": [
        "pd.to_datetime(shelter_df['datetime']).dt.month.value_counts().sort_index()"
      ],
      "execution_count": 0,
      "outputs": []
    },
    {
      "cell_type": "code",
      "metadata": {
        "id": "JzJdrN1e1UnJ",
        "colab_type": "code",
        "colab": {}
      },
      "source": [
        "pd.to_datetime(shelter_df['datetime']).dt.month.value_counts().unique()"
      ],
      "execution_count": 0,
      "outputs": []
    },
    {
      "cell_type": "markdown",
      "metadata": {
        "id": "cAA8XbBR2D08",
        "colab_type": "text"
      },
      "source": [
        "So with these two combined I can determine that July is, in fact, the busiest but that June, August, and October are close behind.\n",
        "\n",
        "By far February and March are the worst, with only April and January even close - and yes, it turns out that January doesn't perform all that well."
      ]
    },
    {
      "cell_type": "code",
      "metadata": {
        "id": "VDtfd80t2BPa",
        "colab_type": "code",
        "colab": {}
      },
      "source": [
        "pd.to_datetime(shelter_df['datetime']).dt.day.value_counts().sort_index()"
      ],
      "execution_count": 0,
      "outputs": []
    },
    {
      "cell_type": "code",
      "metadata": {
        "id": "Va_MiV8Q4Esk",
        "colab_type": "code",
        "colab": {}
      },
      "source": [
        "pd.to_datetime(shelter_df['datetime']).dt.day.value_counts().unique()"
      ],
      "execution_count": 0,
      "outputs": []
    },
    {
      "cell_type": "code",
      "metadata": {
        "id": "EIeaBciQ30tG",
        "colab_type": "code",
        "colab": {}
      },
      "source": [
        "pd.to_datetime(shelter_df['datetime']).dt.day.plot.density();"
      ],
      "execution_count": 0,
      "outputs": []
    },
    {
      "cell_type": "markdown",
      "metadata": {
        "id": "IhIeqBu-4PsN",
        "colab_type": "text"
      },
      "source": [
        "There's generally a trend upward as the month goes on but the absolute value difference isn't all that high. There aren't many months with 31 days so it makes sense that there would be fewer overall incoming on that (usually non-existant) day of the average month."
      ]
    },
    {
      "cell_type": "code",
      "metadata": {
        "id": "zEo4vkSe3QL4",
        "colab_type": "code",
        "colab": {}
      },
      "source": [
        "shelter_df['outcome_weekday'].value_counts().sort_index()"
      ],
      "execution_count": 0,
      "outputs": []
    },
    {
      "cell_type": "code",
      "metadata": {
        "id": "GgACWhSZ3lZi",
        "colab_type": "code",
        "colab": {}
      },
      "source": [
        "shelter_df['outcome_type'].value_counts()"
      ],
      "execution_count": 0,
      "outputs": []
    },
    {
      "cell_type": "markdown",
      "metadata": {
        "id": "ZWrmEOAr40OV",
        "colab_type": "text"
      },
      "source": [
        "I just want to take a second to point out that you're more likely to die before your owner actually comes for you. That's a \"big oof\". What's interesting, however, is that 5% of all the cats are euthanized and 1.36% die. Beyond that, 5% are returned to their owners and while 43% are adopted, 45.2% are transferred out of the facility."
      ]
    },
    {
      "cell_type": "code",
      "metadata": {
        "id": "01pOjJ5s4uMe",
        "colab_type": "code",
        "colab": {}
      },
      "source": [
        "condition = shelter_df['outcome_type'] == 'Missing'\n",
        "shelter_df['outcome_type'][condition]"
      ],
      "execution_count": 0,
      "outputs": []
    },
    {
      "cell_type": "code",
      "metadata": {
        "id": "D0KWgSya6KnB",
        "colab_type": "code",
        "colab": {}
      },
      "source": [
        "shelter_df['name'][condition]"
      ],
      "execution_count": 0,
      "outputs": []
    },
    {
      "cell_type": "code",
      "metadata": {
        "id": "-tTiCm_L7aWB",
        "colab_type": "code",
        "colab": {}
      },
      "source": [
        "shelter_df['breed'][condition]"
      ],
      "execution_count": 0,
      "outputs": []
    },
    {
      "cell_type": "code",
      "metadata": {
        "id": "M1dFn2hG7hex",
        "colab_type": "code",
        "colab": {}
      },
      "source": [
        "shelter_df['binned_outcome_age_(years)'][condition]"
      ],
      "execution_count": 0,
      "outputs": []
    },
    {
      "cell_type": "markdown",
      "metadata": {
        "id": "JKTLero77wgK",
        "colab_type": "text"
      },
      "source": [
        "Well, as for the ones that are stolen or \"escape\", it appears that being 6 months old or younger and a domestic shorthair are the most popular targets :3"
      ]
    },
    {
      "cell_type": "code",
      "metadata": {
        "id": "aOjTZ6iu7t-O",
        "colab_type": "code",
        "colab": {}
      },
      "source": [
        "shelter_df['sex'].value_counts()"
      ],
      "execution_count": 0,
      "outputs": []
    },
    {
      "cell_type": "markdown",
      "metadata": {
        "id": "8eAiyihJ9niG",
        "colab_type": "text"
      },
      "source": [
        "More Females than males"
      ]
    },
    {
      "cell_type": "code",
      "metadata": {
        "id": "2cHN_Whn9lo_",
        "colab_type": "code",
        "colab": {}
      },
      "source": [
        "condition = shelter_df['outcome_type'] == 'Euthanasia'\n",
        "shelter_df['outcome_type'][condition]"
      ],
      "execution_count": 0,
      "outputs": []
    },
    {
      "cell_type": "code",
      "metadata": {
        "id": "NPe5f6kD91NR",
        "colab_type": "code",
        "colab": {}
      },
      "source": [
        "shelter_df['sex'][condition].value_counts()"
      ],
      "execution_count": 0,
      "outputs": []
    },
    {
      "cell_type": "code",
      "metadata": {
        "id": "Cq-CCN1L9-kf",
        "colab_type": "code",
        "colab": {}
      },
      "source": [
        "shelter_df['binned_outcome_age_(years)'][condition].value_counts()"
      ],
      "execution_count": 0,
      "outputs": []
    },
    {
      "cell_type": "markdown",
      "metadata": {
        "id": "HgkB8Sf9-Pm5",
        "colab_type": "text"
      },
      "source": [
        "Apparently, in raw absolute values, there are more kittens and baby cats that are euthanized than Twilight or any of the other categories. Given the significant population difference, however, that's not exactly as huge a surprise as one would think."
      ]
    },
    {
      "cell_type": "code",
      "metadata": {
        "id": "tPnAqk2m-KHd",
        "colab_type": "code",
        "colab": {}
      },
      "source": [
        "'''\n",
        "Baby           17966\n",
        "Kitten          4636\n",
        "Adult           2455\n",
        "Midlife         1625\n",
        "Older Adult     1554\n",
        "Twilight        1135\n",
        "\n",
        "baby           575\n",
        "Twilight       209\n",
        "kitten         201\n",
        "adult          179\n",
        "Midlife        166\n",
        "Older Adult    119\n",
        "'''\n",
        "\n",
        "print('Baby: ', (575 / 17966) )\n",
        "print('Kitten: ', (201 / 4636) )\n",
        "print('Adult: ', (179 / 2455) )\n",
        "print('Midlife: ', (166 / 1625) )\n",
        "print('Older Adult: ', (119 / 1554) )\n",
        "print('Twilight: ', (209 / 1135) )"
      ],
      "execution_count": 0,
      "outputs": []
    },
    {
      "cell_type": "markdown",
      "metadata": {
        "id": "YzbnQe7y_zON",
        "colab_type": "text"
      },
      "source": [
        "```\n",
        "Baby:        3.2%\n",
        "\n",
        "Kitten:      4.33%\n",
        "\n",
        "Adult:       7.29%\n",
        "\n",
        "Older Adult: 7.657%\n",
        "\n",
        "Midlife:     10.21%\n",
        "\n",
        "Twilight:    18.41%\n",
        "```"
      ]
    },
    {
      "cell_type": "markdown",
      "metadata": {
        "id": "wAYadAasAy66",
        "colab_type": "text"
      },
      "source": [
        "So, yeah, there's a pretty strong positive correlation between age and the odds you're gonna be euthanized.\n",
        "\n",
        "What about the time you're brought in?\n",
        "What about the length of time you've stayed?"
      ]
    },
    {
      "cell_type": "code",
      "metadata": {
        "id": "B1uuYbBLvCXc",
        "colab_type": "code",
        "colab": {}
      },
      "source": [
        "# Looking to graph date brought in (month) against Euthanized \n",
        "plt.xticks(np.arange(0, 13, 1.0))\n",
        "plt.xlabel(['Jan', 'Feb', 'Mar', 'Apr', 'May', 'June', 'July', 'Aug', 'Sept', 'Oct', 'Nov', 'Dec'])\n",
        "pd.to_datetime(shelter_df['datetime'][condition]).dt.month.plot.density();\n",
        "plt.show()"
      ],
      "execution_count": 0,
      "outputs": []
    },
    {
      "cell_type": "code",
      "metadata": {
        "id": "qmHcDa4svmKq",
        "colab_type": "code",
        "colab": {}
      },
      "source": [
        "plt.xticks(np.arange(0, 13, 1.0))\n",
        "plt.xlabel(['Jan', 'Feb', 'Mar', 'Apr', 'May', 'June', 'July', 'Aug', 'Sept', 'Oct', 'Nov', 'Dec'])\n",
        "pd.to_datetime(shelter_df['datetime']).dt.month.plot.density();\n",
        "plt.show()"
      ],
      "execution_count": 0,
      "outputs": []
    },
    {
      "cell_type": "markdown",
      "metadata": {
        "id": "SgFVo3GpwCxB",
        "colab_type": "text"
      },
      "source": [
        "Generally it appears that the population influx follows the incoming curve, albeit with fewer spikes but there's also less data so a smoother curve is expected. \n",
        "\n",
        "So, unfortunately, it looks like intake data is unavailable - and \"period range\" has no correlation to anything? Comparing, say, a cat that was outgoing at the end of the month or beginning of the month, with a period range of 30 or 60 days, the date is only month-accurate but it's always the exact same month and year. There doesn't appear to be any way to determine how long a cat has been in the shelter beyond potentially trying to deduce some information from date of birth but, overall, it looks like I mistakenly thought there was a column for intake date. \n",
        "\n",
        "...BUUUUUT :D I googled for it and found it! :D It's actually EVEN MORE data! Going to see if there's an up to date outgoing dataset as well! \n",
        "\n",
        "...OMG YES! :DDD"
      ]
    },
    {
      "cell_type": "code",
      "metadata": {
        "id": "zFuw-aCVv_ii",
        "colab_type": "code",
        "colab": {}
      },
      "source": [
        ""
      ],
      "execution_count": 0,
      "outputs": []
    }
  ]
}